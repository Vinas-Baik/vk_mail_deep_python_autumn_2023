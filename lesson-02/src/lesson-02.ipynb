{
 "cells": [
  {
   "cell_type": "markdown",
   "id": "2ad4cc6e",
   "metadata": {},
   "source": [
    "# О функциях"
   ]
  },
  {
   "cell_type": "code",
   "execution_count": 7,
   "id": "0bcce564",
   "metadata": {},
   "outputs": [],
   "source": [
    "def make_sandwich(ingr, base=None):\n",
    "    if base is None: # if not base:\n",
    "        base = [\"масло\", \"хлеб\"]\n",
    "    base.append(ingr)\n",
    "    return base"
   ]
  },
  {
   "cell_type": "code",
   "execution_count": 8,
   "id": "cbf2be23",
   "metadata": {},
   "outputs": [],
   "source": [
    "sandwich_club = make_sandwich('курочка')"
   ]
  },
  {
   "cell_type": "code",
   "execution_count": 9,
   "id": "606fc1bc",
   "metadata": {},
   "outputs": [
    {
     "data": {
      "text/plain": [
       "['масло', 'хлеб', 'курочка']"
      ]
     },
     "execution_count": 9,
     "metadata": {},
     "output_type": "execute_result"
    }
   ],
   "source": [
    "sandwich_club"
   ]
  },
  {
   "cell_type": "code",
   "execution_count": 10,
   "id": "7b34177a",
   "metadata": {},
   "outputs": [],
   "source": [
    "paddington_sandwich = make_sandwich('мармелад')"
   ]
  },
  {
   "cell_type": "code",
   "execution_count": 11,
   "id": "1c83905a",
   "metadata": {},
   "outputs": [
    {
     "data": {
      "text/plain": [
       "['масло', 'хлеб', 'мармелад']"
      ]
     },
     "execution_count": 11,
     "metadata": {},
     "output_type": "execute_result"
    }
   ],
   "source": [
    "paddington_sandwich"
   ]
  },
  {
   "cell_type": "markdown",
   "id": "a28a534e",
   "metadata": {},
   "source": [
    "# Декоратор"
   ]
  },
  {
   "cell_type": "code",
   "execution_count": 71,
   "id": "0de69604",
   "metadata": {},
   "outputs": [],
   "source": [
    "import time\n",
    "import functools\n",
    "\n",
    "def profiler(func):\n",
    "    @functools.wraps(func)\n",
    "    def inner(*args, **kwargs):\n",
    "        print(args, kwargs)\n",
    "        start_ts = time.time()\n",
    "        res = func(*args, **kwargs)\n",
    "        end_ts = time.time()\n",
    "        print(f\"Время выполнения функции {func.__name__}: {end_ts - start_ts} секунд\")\n",
    "        return res\n",
    "    return inner\n",
    "\n",
    "def sleeper(delay):\n",
    "    def inner_sleeper(func):\n",
    "        def inner(*args, **kwargs):\n",
    "            time.sleep(delay)\n",
    "            res = func(*args, **kwargs)\n",
    "            return res\n",
    "        return inner\n",
    "    return inner_sleeper\n",
    "        "
   ]
  },
  {
   "cell_type": "code",
   "execution_count": 80,
   "id": "6b835d0c",
   "metadata": {},
   "outputs": [],
   "source": [
    "@profiler\n",
    "def fibonacci(n):\n",
    "    # LRU-cache - Least Recently Used\n",
    "    # LFU-cache - Least Frequently (?) Used\n",
    "    @functools.lru_cache()\n",
    "    def fibonacci_inner(n):\n",
    "        if n < 2:\n",
    "            return 1\n",
    "        return fibonacci_inner(n-1) + fibonacci_inner(n-2)\n",
    "    return fibonacci_inner(n)\n",
    "\n",
    "@profiler\n",
    "@sleeper\n",
    "def boo():\n",
    "    pass\n",
    "\n",
    "@profiler\n",
    "@sleeper(1)\n",
    "def fetch_slow_url(url):\n",
    "    time.sleep(0.5)\n",
    "\n",
    "@profiler\n",
    "@sleeper(0.1)\n",
    "def fetch_fast_url(url):\n",
    "    time.sleep(0.5)\n",
    "    \n",
    "#foo = profiler(foo)\n",
    "#boo = profiler(boo)"
   ]
  },
  {
   "cell_type": "code",
   "execution_count": 73,
   "id": "6cd16704",
   "metadata": {},
   "outputs": [
    {
     "name": "stdout",
     "output_type": "stream",
     "text": [
      "('http://sample.com',) {}\n",
      "Время выполнения функции inner: 1.508664846420288 секунд\n"
     ]
    }
   ],
   "source": [
    "fetch_slow_url(\"http://sample.com\")"
   ]
  },
  {
   "cell_type": "code",
   "execution_count": 74,
   "id": "980d716d",
   "metadata": {},
   "outputs": [
    {
     "name": "stdout",
     "output_type": "stream",
     "text": [
      "('http://sample.com',) {}\n",
      "Время выполнения функции inner: 0.6096558570861816 секунд\n"
     ]
    }
   ],
   "source": [
    "fetch_fast_url(\"http://sample.com\")"
   ]
  },
  {
   "cell_type": "code",
   "execution_count": 75,
   "id": "b01cef87",
   "metadata": {},
   "outputs": [
    {
     "name": "stdout",
     "output_type": "stream",
     "text": [
      "fibonacci\n"
     ]
    },
    {
     "data": {
      "text/plain": [
       "['__annotations__',\n",
       " '__call__',\n",
       " '__class__',\n",
       " '__closure__',\n",
       " '__code__',\n",
       " '__defaults__',\n",
       " '__delattr__',\n",
       " '__dict__',\n",
       " '__dir__',\n",
       " '__doc__',\n",
       " '__eq__',\n",
       " '__format__',\n",
       " '__ge__',\n",
       " '__get__',\n",
       " '__getattribute__',\n",
       " '__globals__',\n",
       " '__gt__',\n",
       " '__hash__',\n",
       " '__init__',\n",
       " '__init_subclass__',\n",
       " '__kwdefaults__',\n",
       " '__le__',\n",
       " '__lt__',\n",
       " '__module__',\n",
       " '__name__',\n",
       " '__ne__',\n",
       " '__new__',\n",
       " '__qualname__',\n",
       " '__reduce__',\n",
       " '__reduce_ex__',\n",
       " '__repr__',\n",
       " '__setattr__',\n",
       " '__sizeof__',\n",
       " '__str__',\n",
       " '__subclasshook__',\n",
       " '__wrapped__']"
      ]
     },
     "execution_count": 75,
     "metadata": {},
     "output_type": "execute_result"
    }
   ],
   "source": [
    "print(fibonacci.__name__)\n",
    "dir(fibonacci)"
   ]
  },
  {
   "cell_type": "code",
   "execution_count": 76,
   "id": "c08a2084",
   "metadata": {},
   "outputs": [],
   "source": [
    "original_fibonacci = fibonacci.__wrapped__"
   ]
  },
  {
   "cell_type": "code",
   "execution_count": 79,
   "id": "1dd2d24f",
   "metadata": {},
   "outputs": [
    {
     "data": {
      "text/plain": [
       "9227465"
      ]
     },
     "execution_count": 79,
     "metadata": {},
     "output_type": "execute_result"
    }
   ],
   "source": [
    "original_fibonacci(34)"
   ]
  },
  {
   "cell_type": "code",
   "execution_count": 81,
   "id": "d3b2307c",
   "metadata": {},
   "outputs": [
    {
     "name": "stdout",
     "output_type": "stream",
     "text": [
      "() {'n': 34}\n",
      "Время выполнения функции fibonacci: 8.225440979003906e-05 секунд\n",
      "9227465\n"
     ]
    }
   ],
   "source": [
    "print(fibonacci(n=34))"
   ]
  },
  {
   "cell_type": "code",
   "execution_count": 58,
   "id": "3a2b7833",
   "metadata": {},
   "outputs": [
    {
     "name": "stdout",
     "output_type": "stream",
     "text": [
      "() {}\n",
      "Время выполнения функции inner: 0.503371000289917 секунд\n"
     ]
    }
   ],
   "source": [
    "boo()"
   ]
  },
  {
   "cell_type": "markdown",
   "id": "8b7e53ea",
   "metadata": {},
   "source": [
    "# Функтор"
   ]
  },
  {
   "cell_type": "code",
   "execution_count": 109,
   "id": "88f9656d",
   "metadata": {},
   "outputs": [],
   "source": [
    "class Ape:\n",
    "    def __init__(self, name, age):\n",
    "        self.name = name\n",
    "        self.age = age\n",
    "    \n",
    "    def __call__(self):\n",
    "        print(\"Nooooooo!!!\")\n",
    "        \n",
    "    def __repr__(self):\n",
    "        return f\"Ape({self.name}, {self.age})\""
   ]
  },
  {
   "cell_type": "code",
   "execution_count": 110,
   "id": "92c0cbe1",
   "metadata": {},
   "outputs": [],
   "source": [
    "dirty_apes = [Ape('Ceaser', 7), Ape('Rocket', 10), Ape('Orange', 3)]"
   ]
  },
  {
   "cell_type": "code",
   "execution_count": 114,
   "id": "fcef2938",
   "metadata": {},
   "outputs": [
    {
     "name": "stdout",
     "output_type": "stream",
     "text": [
      "[Ape(Ceaser, 7), Ape(Orange, 3), Ape(Rocket, 10)]\n"
     ]
    }
   ],
   "source": [
    "print(sorted(dirty_apes, key=lambda ape: ape.name))"
   ]
  },
  {
   "cell_type": "code",
   "execution_count": 115,
   "id": "82e5a8ed",
   "metadata": {},
   "outputs": [
    {
     "name": "stdout",
     "output_type": "stream",
     "text": [
      "Ape(Ceaser, 7)\n"
     ]
    }
   ],
   "source": [
    "print(dirty_apes[0])"
   ]
  },
  {
   "cell_type": "code",
   "execution_count": 116,
   "id": "a9b0f463",
   "metadata": {},
   "outputs": [],
   "source": [
    "def mylen(obj, /):\n",
    "    return obj.__len__()"
   ]
  },
  {
   "cell_type": "code",
   "execution_count": 118,
   "id": "6fe4003c",
   "metadata": {},
   "outputs": [
    {
     "ename": "TypeError",
     "evalue": "mylen() got some positional-only arguments passed as keyword arguments: 'obj'",
     "output_type": "error",
     "traceback": [
      "\u001b[0;31m---------------------------------------------------------------------------\u001b[0m",
      "\u001b[0;31mTypeError\u001b[0m                                 Traceback (most recent call last)",
      "Cell \u001b[0;32mIn [118], line 2\u001b[0m\n\u001b[1;32m      1\u001b[0m lst \u001b[38;5;241m=\u001b[39m [\u001b[38;5;241m1\u001b[39m,\u001b[38;5;241m2\u001b[39m,\u001b[38;5;241m3\u001b[39m,\u001b[38;5;241m4\u001b[39m]\n\u001b[0;32m----> 2\u001b[0m \u001b[43mmylen\u001b[49m\u001b[43m(\u001b[49m\u001b[43mobj\u001b[49m\u001b[38;5;241;43m=\u001b[39;49m\u001b[43mlst\u001b[49m\u001b[43m)\u001b[49m\n",
      "\u001b[0;31mTypeError\u001b[0m: mylen() got some positional-only arguments passed as keyword arguments: 'obj'"
     ]
    }
   ],
   "source": [
    "lst = [1,2,3,4]\n",
    "mylen(obj=lst)"
   ]
  },
  {
   "cell_type": "code",
   "execution_count": 127,
   "id": "995adb94",
   "metadata": {},
   "outputs": [
    {
     "name": "stdout",
     "output_type": "stream",
     "text": [
      "def mylen(obj, /):\n",
      "    return obj.__len__()\n",
      "\n"
     ]
    }
   ],
   "source": [
    "import inspect\n",
    "print(inspect.getsource(mylen))"
   ]
  },
  {
   "cell_type": "code",
   "execution_count": 142,
   "id": "3556228a",
   "metadata": {},
   "outputs": [],
   "source": [
    "def foo(a, b, c):\n",
    "    \"\"\"Метод, который складывает три числа\n",
    "    и больше ничего не делает.\n",
    "    Такие дела.\"\"\"\n",
    "    \n",
    "    return a + b + c"
   ]
  },
  {
   "cell_type": "code",
   "execution_count": 143,
   "id": "b573316a",
   "metadata": {},
   "outputs": [],
   "source": [
    "#foo(1, c=3, 2)\n",
    "#SyntaxError: positional argument follows keyword argument"
   ]
  },
  {
   "cell_type": "code",
   "execution_count": 144,
   "id": "756efd13",
   "metadata": {},
   "outputs": [
    {
     "name": "stdout",
     "output_type": "stream",
     "text": [
      "Метод, который складывает три числа\n",
      "    и больше ничего не делает.\n",
      "    Такие дела.\n"
     ]
    }
   ],
   "source": [
    "print(foo.__doc__)"
   ]
  },
  {
   "cell_type": "code",
   "execution_count": 195,
   "id": "87703aa5",
   "metadata": {},
   "outputs": [],
   "source": [
    "p4 = 100500\n",
    "\n",
    "def f1():\n",
    "    p1 = 10\n",
    "    lst = [1,2,3]\n",
    "    \n",
    "    def f2():\n",
    "        p2 = 20\n",
    "        global p4\n",
    "        p4 += 100\n",
    "        lst.append(4)\n",
    "        def f3():\n",
    "            nonlocal p1\n",
    "            p1 += 5\n",
    "            print(f\"f3: {p4} {len([1,2])}, {p1=}\")\n",
    "        f3()\n",
    "        print(f\"f2: {p2=}, {p1=}, {lst=}\", locals())\n",
    "    f2()\n",
    "    print(f\"f1: {p1=}, {lst=}\", locals())"
   ]
  },
  {
   "cell_type": "code",
   "execution_count": 196,
   "id": "a9950d28",
   "metadata": {},
   "outputs": [
    {
     "name": "stdout",
     "output_type": "stream",
     "text": [
      "f3: 100600 2, p1=15\n",
      "f2: p2=20, p1=15, lst=[1, 2, 3, 4] {'p2': 20, 'f3': <function f1.<locals>.f2.<locals>.f3 at 0x111b75160>, 'lst': [1, 2, 3, 4], 'p1': 15}\n",
      "f1: p1=15, lst=[1, 2, 3, 4] {'f2': <function f1.<locals>.f2 at 0x111b4f820>, 'lst': [1, 2, 3, 4], 'p1': 15}\n"
     ]
    }
   ],
   "source": [
    "f1()"
   ]
  },
  {
   "cell_type": "markdown",
   "id": "e23b5e01",
   "metadata": {},
   "source": [
    "# Встроенные функции"
   ]
  },
  {
   "cell_type": "code",
   "execution_count": 202,
   "id": "3978eb4d",
   "metadata": {},
   "outputs": [
    {
     "data": {
      "text/plain": [
       "['1|4', '2|5']"
      ]
     },
     "execution_count": 202,
     "metadata": {},
     "output_type": "execute_result"
    }
   ],
   "source": [
    "def func(el1, el2):\n",
    "    return f\"{el1}|{el2}\"\n",
    "\n",
    "list(map(lambda el1, el2: f\"{el1}|{el2}\", [1, 2,3], [4, 5]))"
   ]
  },
  {
   "cell_type": "code",
   "execution_count": 204,
   "id": "747db40d",
   "metadata": {},
   "outputs": [],
   "source": [
    "basetwo = functools.partial(int, base=2)"
   ]
  },
  {
   "cell_type": "code",
   "execution_count": 206,
   "id": "64aca3dc",
   "metadata": {},
   "outputs": [
    {
     "ename": "ValueError",
     "evalue": "invalid literal for int() with base 2: '191010'",
     "output_type": "error",
     "traceback": [
      "\u001b[0;31m---------------------------------------------------------------------------\u001b[0m",
      "\u001b[0;31mValueError\u001b[0m                                Traceback (most recent call last)",
      "Cell \u001b[0;32mIn [206], line 1\u001b[0m\n\u001b[0;32m----> 1\u001b[0m \u001b[43mbasetwo\u001b[49m\u001b[43m(\u001b[49m\u001b[38;5;124;43m'\u001b[39;49m\u001b[38;5;124;43m191010\u001b[39;49m\u001b[38;5;124;43m'\u001b[39;49m\u001b[43m)\u001b[49m\n",
      "\u001b[0;31mValueError\u001b[0m: invalid literal for int() with base 2: '191010'"
     ]
    }
   ],
   "source": [
    "basetwo('191010')"
   ]
  },
  {
   "cell_type": "code",
   "execution_count": 208,
   "id": "3c0a3927",
   "metadata": {},
   "outputs": [
    {
     "data": {
      "text/plain": [
       "functools.partial"
      ]
     },
     "execution_count": 208,
     "metadata": {},
     "output_type": "execute_result"
    }
   ],
   "source": [
    "type(basetwo)"
   ]
  },
  {
   "cell_type": "code",
   "execution_count": 209,
   "id": "d5490663",
   "metadata": {},
   "outputs": [],
   "source": [
    "def add(a, b):\n",
    "    a += b\n",
    "    return a"
   ]
  },
  {
   "cell_type": "code",
   "execution_count": 210,
   "id": "978ff9ee",
   "metadata": {},
   "outputs": [
    {
     "data": {
      "text/plain": [
       "11"
      ]
     },
     "execution_count": 210,
     "metadata": {},
     "output_type": "execute_result"
    }
   ],
   "source": [
    "num1 = 1\n",
    "num2 = 10\n",
    "add(num1, num2)"
   ]
  },
  {
   "cell_type": "code",
   "execution_count": 211,
   "id": "27662297",
   "metadata": {},
   "outputs": [
    {
     "name": "stdout",
     "output_type": "stream",
     "text": [
      "num1=1, num2=10\n"
     ]
    }
   ],
   "source": [
    "print(f\"{num1=}, {num2=}\")"
   ]
  },
  {
   "cell_type": "code",
   "execution_count": 212,
   "id": "193d4d40",
   "metadata": {},
   "outputs": [
    {
     "data": {
      "text/plain": [
       "[1, 2, 3, 4, 5]"
      ]
     },
     "execution_count": 212,
     "metadata": {},
     "output_type": "execute_result"
    }
   ],
   "source": [
    "lst1 = [1,2,3]\n",
    "lst2 = [4,5]\n",
    "add(lst1, lst2)"
   ]
  },
  {
   "cell_type": "code",
   "execution_count": 213,
   "id": "2d44ab67",
   "metadata": {},
   "outputs": [
    {
     "name": "stdout",
     "output_type": "stream",
     "text": [
      "lst1=[1, 2, 3, 4, 5], lst2=[4, 5]\n"
     ]
    }
   ],
   "source": [
    "print(f\"{lst1=}, {lst2=}\")"
   ]
  },
  {
   "cell_type": "code",
   "execution_count": 216,
   "id": "652707f8",
   "metadata": {},
   "outputs": [],
   "source": [
    "bc = compile('x = 1\\nz = x + 5\\nprint(z)', 'test', 'exec')"
   ]
  },
  {
   "cell_type": "code",
   "execution_count": 217,
   "id": "637b38f4",
   "metadata": {},
   "outputs": [
    {
     "data": {
      "text/plain": [
       "code"
      ]
     },
     "execution_count": 217,
     "metadata": {},
     "output_type": "execute_result"
    }
   ],
   "source": [
    "type(bc)"
   ]
  },
  {
   "cell_type": "code",
   "execution_count": 218,
   "id": "5a69b77c",
   "metadata": {},
   "outputs": [
    {
     "name": "stdout",
     "output_type": "stream",
     "text": [
      "6\n"
     ]
    }
   ],
   "source": [
    "eval(bc)"
   ]
  },
  {
   "cell_type": "code",
   "execution_count": 222,
   "id": "8b2e5d2f",
   "metadata": {},
   "outputs": [],
   "source": [
    "exec('baba_joe = \"Маня\"')"
   ]
  },
  {
   "cell_type": "code",
   "execution_count": 223,
   "id": "bb8c0dbf",
   "metadata": {},
   "outputs": [
    {
     "data": {
      "text/plain": [
       "'Маня'"
      ]
     },
     "execution_count": 223,
     "metadata": {},
     "output_type": "execute_result"
    }
   ],
   "source": [
    "baba_joe"
   ]
  },
  {
   "cell_type": "code",
   "execution_count": 224,
   "id": "ac3171d2",
   "metadata": {},
   "outputs": [],
   "source": [
    "exec('new_dog = baba_joe + \" \" + \"jr.\"')"
   ]
  },
  {
   "cell_type": "code",
   "execution_count": 225,
   "id": "d60bf513",
   "metadata": {},
   "outputs": [
    {
     "data": {
      "text/plain": [
       "'Маня jr.'"
      ]
     },
     "execution_count": 225,
     "metadata": {},
     "output_type": "execute_result"
    }
   ],
   "source": [
    "new_dog"
   ]
  },
  {
   "cell_type": "code",
   "execution_count": null,
   "id": "91a17c73",
   "metadata": {},
   "outputs": [],
   "source": []
  }
 ],
 "metadata": {
  "kernelspec": {
   "display_name": "Python 3 (ipykernel)",
   "language": "python",
   "name": "python3"
  },
  "language_info": {
   "codemirror_mode": {
    "name": "ipython",
    "version": 3
   },
   "file_extension": ".py",
   "mimetype": "text/x-python",
   "name": "python",
   "nbconvert_exporter": "python",
   "pygments_lexer": "ipython3",
   "version": "3.9.17"
  }
 },
 "nbformat": 4,
 "nbformat_minor": 5
}
