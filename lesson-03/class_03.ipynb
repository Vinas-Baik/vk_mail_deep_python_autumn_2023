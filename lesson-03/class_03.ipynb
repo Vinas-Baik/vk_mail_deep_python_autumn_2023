{
 "cells": [
  {
   "cell_type": "code",
   "execution_count": 34,
   "id": "376b68bb",
   "metadata": {},
   "outputs": [],
   "source": [
    "class ClassA:\n",
    "    name = \"cls_name\"\n",
    "    __cls_private = \"cls_private\"\n",
    "\n",
    "    def __init__(self, val):\n",
    "        self.val = val\n",
    "        self._protected = \"protected\"\n",
    "        self.__private = \"private\"\n",
    "\n",
    "    def print(self):\n",
    "        print(\n",
    "            f\"{self.val=}, {self._protected=}, {self.__private=}, \"\n",
    "            f\"{self.name=}, {self.__cls_private=}\"\n",
    "        )\n",
    "    \n",
    "    def new_print(self):\n",
    "        print(f\"{self.__new_private=}\")\n"
   ]
  },
  {
   "cell_type": "code",
   "execution_count": 2,
   "id": "82f9ef11",
   "metadata": {},
   "outputs": [],
   "source": [
    "a = ClassA(42)"
   ]
  },
  {
   "cell_type": "code",
   "execution_count": 3,
   "id": "196aa9af",
   "metadata": {},
   "outputs": [
    {
     "data": {
      "text/plain": [
       "<__main__.ClassA at 0x1123b8ac0>"
      ]
     },
     "execution_count": 3,
     "metadata": {},
     "output_type": "execute_result"
    }
   ],
   "source": [
    "a"
   ]
  },
  {
   "cell_type": "code",
   "execution_count": 4,
   "id": "7a24216f",
   "metadata": {},
   "outputs": [
    {
     "data": {
      "text/plain": [
       "__main__.ClassA"
      ]
     },
     "execution_count": 4,
     "metadata": {},
     "output_type": "execute_result"
    }
   ],
   "source": [
    "ClassA"
   ]
  },
  {
   "cell_type": "code",
   "execution_count": 5,
   "id": "1fd3a15f",
   "metadata": {},
   "outputs": [
    {
     "name": "stdout",
     "output_type": "stream",
     "text": [
      "self.val=42, self._protected='protected', self.__private='private', self.name='cls_name', self.__cls_private='cls_private'\n"
     ]
    }
   ],
   "source": [
    "a.print()"
   ]
  },
  {
   "cell_type": "code",
   "execution_count": 6,
   "id": "a614850a",
   "metadata": {},
   "outputs": [
    {
     "ename": "AttributeError",
     "evalue": "'ClassA' object has no attribute '__private'",
     "output_type": "error",
     "traceback": [
      "\u001b[0;31m---------------------------------------------------------------------------\u001b[0m",
      "\u001b[0;31mAttributeError\u001b[0m                            Traceback (most recent call last)",
      "Input \u001b[0;32mIn [6]\u001b[0m, in \u001b[0;36m<cell line: 1>\u001b[0;34m()\u001b[0m\n\u001b[0;32m----> 1\u001b[0m \u001b[43ma\u001b[49m\u001b[38;5;241;43m.\u001b[39;49m\u001b[43m__private\u001b[49m\n",
      "\u001b[0;31mAttributeError\u001b[0m: 'ClassA' object has no attribute '__private'"
     ]
    }
   ],
   "source": [
    "a.__private"
   ]
  },
  {
   "cell_type": "code",
   "execution_count": 7,
   "id": "2996bcde",
   "metadata": {},
   "outputs": [
    {
     "ename": "AttributeError",
     "evalue": "type object 'ClassA' has no attribute '__cls_private'",
     "output_type": "error",
     "traceback": [
      "\u001b[0;31m---------------------------------------------------------------------------\u001b[0m",
      "\u001b[0;31mAttributeError\u001b[0m                            Traceback (most recent call last)",
      "Input \u001b[0;32mIn [7]\u001b[0m, in \u001b[0;36m<cell line: 1>\u001b[0;34m()\u001b[0m\n\u001b[0;32m----> 1\u001b[0m \u001b[43mClassA\u001b[49m\u001b[38;5;241;43m.\u001b[39;49m\u001b[43m__cls_private\u001b[49m\n",
      "\u001b[0;31mAttributeError\u001b[0m: type object 'ClassA' has no attribute '__cls_private'"
     ]
    }
   ],
   "source": [
    "ClassA.__cls_private"
   ]
  },
  {
   "cell_type": "code",
   "execution_count": 8,
   "id": "51bb0a24",
   "metadata": {},
   "outputs": [
    {
     "data": {
      "text/plain": [
       "42"
      ]
     },
     "execution_count": 8,
     "metadata": {},
     "output_type": "execute_result"
    }
   ],
   "source": [
    "a.val"
   ]
  },
  {
   "cell_type": "code",
   "execution_count": 9,
   "id": "f66a83bf",
   "metadata": {},
   "outputs": [
    {
     "data": {
      "text/plain": [
       "'protected'"
      ]
     },
     "execution_count": 9,
     "metadata": {},
     "output_type": "execute_result"
    }
   ],
   "source": [
    "a._protected"
   ]
  },
  {
   "cell_type": "code",
   "execution_count": 10,
   "id": "c1815613",
   "metadata": {},
   "outputs": [],
   "source": [
    "a.val = 99"
   ]
  },
  {
   "cell_type": "code",
   "execution_count": 11,
   "id": "3ae2f735",
   "metadata": {},
   "outputs": [],
   "source": [
    "a._protected = \"new_proto\""
   ]
  },
  {
   "cell_type": "code",
   "execution_count": 12,
   "id": "d1d42259",
   "metadata": {},
   "outputs": [
    {
     "data": {
      "text/plain": [
       "(99, 'new_proto')"
      ]
     },
     "execution_count": 12,
     "metadata": {},
     "output_type": "execute_result"
    }
   ],
   "source": [
    "a.val, a._protected"
   ]
  },
  {
   "cell_type": "code",
   "execution_count": null,
   "id": "f35f2321",
   "metadata": {},
   "outputs": [],
   "source": [
    "_ClassA__private"
   ]
  },
  {
   "cell_type": "code",
   "execution_count": 13,
   "id": "4c28545c",
   "metadata": {},
   "outputs": [
    {
     "data": {
      "text/plain": [
       "'private'"
      ]
     },
     "execution_count": 13,
     "metadata": {},
     "output_type": "execute_result"
    }
   ],
   "source": [
    "a._ClassA__private"
   ]
  },
  {
   "cell_type": "code",
   "execution_count": 14,
   "id": "d5eb0907",
   "metadata": {},
   "outputs": [],
   "source": [
    "a._ClassA__private = \"new_priv\""
   ]
  },
  {
   "cell_type": "code",
   "execution_count": 15,
   "id": "3fe48a77",
   "metadata": {},
   "outputs": [
    {
     "data": {
      "text/plain": [
       "'new_priv'"
      ]
     },
     "execution_count": 15,
     "metadata": {},
     "output_type": "execute_result"
    }
   ],
   "source": [
    "a._ClassA__private"
   ]
  },
  {
   "cell_type": "code",
   "execution_count": 16,
   "id": "74cc6a43",
   "metadata": {},
   "outputs": [
    {
     "data": {
      "text/plain": [
       "{'val': 99, '_protected': 'new_proto', '_ClassA__private': 'new_priv'}"
      ]
     },
     "execution_count": 16,
     "metadata": {},
     "output_type": "execute_result"
    }
   ],
   "source": [
    "a.__dict__"
   ]
  },
  {
   "cell_type": "code",
   "execution_count": 17,
   "id": "3b1a0ea8",
   "metadata": {},
   "outputs": [
    {
     "data": {
      "text/plain": [
       "mappingproxy({'__module__': '__main__',\n",
       "              'name': 'cls_name',\n",
       "              '_ClassA__cls_private': 'cls_private',\n",
       "              '__init__': <function __main__.ClassA.__init__(self, val)>,\n",
       "              'print': <function __main__.ClassA.print(self)>,\n",
       "              '__dict__': <attribute '__dict__' of 'ClassA' objects>,\n",
       "              '__weakref__': <attribute '__weakref__' of 'ClassA' objects>,\n",
       "              '__doc__': None})"
      ]
     },
     "execution_count": 17,
     "metadata": {},
     "output_type": "execute_result"
    }
   ],
   "source": [
    "ClassA.__dict__"
   ]
  },
  {
   "cell_type": "code",
   "execution_count": 18,
   "id": "d5b14077",
   "metadata": {},
   "outputs": [],
   "source": [
    "a.__dict__[\"xxx\"] = \"x\""
   ]
  },
  {
   "cell_type": "code",
   "execution_count": 19,
   "id": "7a32a8a6",
   "metadata": {},
   "outputs": [
    {
     "data": {
      "text/plain": [
       "'x'"
      ]
     },
     "execution_count": 19,
     "metadata": {},
     "output_type": "execute_result"
    }
   ],
   "source": [
    "a.xxx"
   ]
  },
  {
   "cell_type": "code",
   "execution_count": 20,
   "id": "f6863f8a",
   "metadata": {},
   "outputs": [
    {
     "ename": "TypeError",
     "evalue": "'mappingproxy' object does not support item assignment",
     "output_type": "error",
     "traceback": [
      "\u001b[0;31m---------------------------------------------------------------------------\u001b[0m",
      "\u001b[0;31mTypeError\u001b[0m                                 Traceback (most recent call last)",
      "Input \u001b[0;32mIn [20]\u001b[0m, in \u001b[0;36m<cell line: 1>\u001b[0;34m()\u001b[0m\n\u001b[0;32m----> 1\u001b[0m ClassA\u001b[38;5;241m.\u001b[39m\u001b[38;5;18m__dict__\u001b[39m[\u001b[38;5;124m\"\u001b[39m\u001b[38;5;124myyy\u001b[39m\u001b[38;5;124m\"\u001b[39m] \u001b[38;5;241m=\u001b[39m \u001b[38;5;124m\"\u001b[39m\u001b[38;5;124my\u001b[39m\u001b[38;5;124m\"\u001b[39m\n",
      "\u001b[0;31mTypeError\u001b[0m: 'mappingproxy' object does not support item assignment"
     ]
    }
   ],
   "source": [
    "ClassA.__dict__[\"yyy\"] = \"y\""
   ]
  },
  {
   "cell_type": "code",
   "execution_count": 21,
   "id": "a943b5ef",
   "metadata": {},
   "outputs": [],
   "source": [
    "a.__dict__[\"!\"] = \"x\""
   ]
  },
  {
   "cell_type": "code",
   "execution_count": 22,
   "id": "466da48d",
   "metadata": {},
   "outputs": [
    {
     "ename": "SyntaxError",
     "evalue": "invalid syntax (1209663272.py, line 1)",
     "output_type": "error",
     "traceback": [
      "\u001b[0;36m  Input \u001b[0;32mIn [22]\u001b[0;36m\u001b[0m\n\u001b[0;31m    a.!\u001b[0m\n\u001b[0m      ^\u001b[0m\n\u001b[0;31mSyntaxError\u001b[0m\u001b[0;31m:\u001b[0m invalid syntax\n"
     ]
    }
   ],
   "source": [
    "a.!"
   ]
  },
  {
   "cell_type": "code",
   "execution_count": 23,
   "id": "54262f2e",
   "metadata": {},
   "outputs": [
    {
     "data": {
      "text/plain": [
       "{'val': 99,\n",
       " '_protected': 'new_proto',\n",
       " '_ClassA__private': 'new_priv',\n",
       " 'xxx': 'x',\n",
       " '!': 'x'}"
      ]
     },
     "execution_count": 23,
     "metadata": {},
     "output_type": "execute_result"
    }
   ],
   "source": [
    "a.__dict__"
   ]
  },
  {
   "cell_type": "code",
   "execution_count": 24,
   "id": "caa3178b",
   "metadata": {},
   "outputs": [
    {
     "data": {
      "text/plain": [
       "'x'"
      ]
     },
     "execution_count": 24,
     "metadata": {},
     "output_type": "execute_result"
    }
   ],
   "source": [
    "getattr(a, \"!\")"
   ]
  },
  {
   "cell_type": "code",
   "execution_count": 25,
   "id": "21d8606a",
   "metadata": {},
   "outputs": [
    {
     "data": {
      "text/plain": [
       "{'val': 99,\n",
       " '_protected': 'new_proto',\n",
       " '_ClassA__private': 'new_priv',\n",
       " 'xxx': 'x',\n",
       " '!': 'x'}"
      ]
     },
     "execution_count": 25,
     "metadata": {},
     "output_type": "execute_result"
    }
   ],
   "source": [
    "a.__dict__"
   ]
  },
  {
   "cell_type": "code",
   "execution_count": 26,
   "id": "8b11a103",
   "metadata": {},
   "outputs": [],
   "source": [
    "a.__new_priv = \"123\""
   ]
  },
  {
   "cell_type": "code",
   "execution_count": 27,
   "id": "55f18f13",
   "metadata": {},
   "outputs": [
    {
     "data": {
      "text/plain": [
       "{'val': 99,\n",
       " '_protected': 'new_proto',\n",
       " '_ClassA__private': 'new_priv',\n",
       " 'xxx': 'x',\n",
       " '!': 'x',\n",
       " '__new_priv': '123'}"
      ]
     },
     "execution_count": 27,
     "metadata": {},
     "output_type": "execute_result"
    }
   ],
   "source": [
    "a.__dict__"
   ]
  },
  {
   "cell_type": "code",
   "execution_count": 28,
   "id": "f6a1d256",
   "metadata": {},
   "outputs": [
    {
     "data": {
      "text/plain": [
       "'123'"
      ]
     },
     "execution_count": 28,
     "metadata": {},
     "output_type": "execute_result"
    }
   ],
   "source": [
    "a.__new_priv"
   ]
  },
  {
   "cell_type": "code",
   "execution_count": 29,
   "id": "016c83cc",
   "metadata": {},
   "outputs": [],
   "source": [
    "a._ClassA__new_private = \"qwerty\""
   ]
  },
  {
   "cell_type": "code",
   "execution_count": 30,
   "id": "d99a83ea",
   "metadata": {},
   "outputs": [
    {
     "data": {
      "text/plain": [
       "{'val': 99,\n",
       " '_protected': 'new_proto',\n",
       " '_ClassA__private': 'new_priv',\n",
       " 'xxx': 'x',\n",
       " '!': 'x',\n",
       " '__new_priv': '123',\n",
       " '_ClassA__new_private': 'qwerty'}"
      ]
     },
     "execution_count": 30,
     "metadata": {},
     "output_type": "execute_result"
    }
   ],
   "source": [
    "a.__dict__"
   ]
  },
  {
   "cell_type": "code",
   "execution_count": 31,
   "id": "dd8c74b0",
   "metadata": {},
   "outputs": [
    {
     "data": {
      "text/plain": [
       "'qwerty'"
      ]
     },
     "execution_count": 31,
     "metadata": {},
     "output_type": "execute_result"
    }
   ],
   "source": [
    "a._ClassA__new_private"
   ]
  },
  {
   "cell_type": "code",
   "execution_count": 32,
   "id": "81e8939c",
   "metadata": {},
   "outputs": [
    {
     "ename": "AttributeError",
     "evalue": "'ClassA' object has no attribute '__new_private'",
     "output_type": "error",
     "traceback": [
      "\u001b[0;31m---------------------------------------------------------------------------\u001b[0m",
      "\u001b[0;31mAttributeError\u001b[0m                            Traceback (most recent call last)",
      "Input \u001b[0;32mIn [32]\u001b[0m, in \u001b[0;36m<cell line: 1>\u001b[0;34m()\u001b[0m\n\u001b[0;32m----> 1\u001b[0m \u001b[43ma\u001b[49m\u001b[38;5;241;43m.\u001b[39;49m\u001b[43m__new_private\u001b[49m\n",
      "\u001b[0;31mAttributeError\u001b[0m: 'ClassA' object has no attribute '__new_private'"
     ]
    }
   ],
   "source": [
    "a.__new_private"
   ]
  },
  {
   "cell_type": "code",
   "execution_count": null,
   "id": "9f4725d2",
   "metadata": {},
   "outputs": [],
   "source": []
  },
  {
   "cell_type": "code",
   "execution_count": null,
   "id": "6c6878db",
   "metadata": {},
   "outputs": [],
   "source": []
  },
  {
   "cell_type": "code",
   "execution_count": 35,
   "id": "7c681fb5",
   "metadata": {},
   "outputs": [],
   "source": [
    "a1 = ClassA(42)"
   ]
  },
  {
   "cell_type": "code",
   "execution_count": null,
   "id": "22c602be",
   "metadata": {},
   "outputs": [],
   "source": []
  },
  {
   "cell_type": "code",
   "execution_count": null,
   "id": "44786b89",
   "metadata": {},
   "outputs": [],
   "source": []
  },
  {
   "cell_type": "code",
   "execution_count": 36,
   "id": "0fd127f1",
   "metadata": {},
   "outputs": [
    {
     "data": {
      "text/plain": [
       "{'val': 42, '_protected': 'protected', '_ClassA__private': 'private'}"
      ]
     },
     "execution_count": 36,
     "metadata": {},
     "output_type": "execute_result"
    }
   ],
   "source": [
    "a1.__dict__"
   ]
  },
  {
   "cell_type": "code",
   "execution_count": 37,
   "id": "7662d1c7",
   "metadata": {},
   "outputs": [
    {
     "ename": "AttributeError",
     "evalue": "'ClassA' object has no attribute '_ClassA__new_private'",
     "output_type": "error",
     "traceback": [
      "\u001b[0;31m---------------------------------------------------------------------------\u001b[0m",
      "\u001b[0;31mAttributeError\u001b[0m                            Traceback (most recent call last)",
      "Input \u001b[0;32mIn [37]\u001b[0m, in \u001b[0;36m<cell line: 1>\u001b[0;34m()\u001b[0m\n\u001b[0;32m----> 1\u001b[0m \u001b[43ma1\u001b[49m\u001b[38;5;241;43m.\u001b[39;49m\u001b[43mnew_print\u001b[49m\u001b[43m(\u001b[49m\u001b[43m)\u001b[49m\n",
      "Input \u001b[0;32mIn [34]\u001b[0m, in \u001b[0;36mClassA.new_print\u001b[0;34m(self)\u001b[0m\n\u001b[1;32m     16\u001b[0m \u001b[38;5;28;01mdef\u001b[39;00m \u001b[38;5;21mnew_print\u001b[39m(\u001b[38;5;28mself\u001b[39m):\n\u001b[0;32m---> 17\u001b[0m     \u001b[38;5;28mprint\u001b[39m(\u001b[38;5;124mf\u001b[39m\u001b[38;5;124m\"\u001b[39m\u001b[38;5;132;01m{\u001b[39;00m\u001b[38;5;28mself\u001b[39m\u001b[38;5;241m.\u001b[39m__new_private\u001b[38;5;132;01m=}\u001b[39;00m\u001b[38;5;124m\"\u001b[39m)\n",
      "\u001b[0;31mAttributeError\u001b[0m: 'ClassA' object has no attribute '_ClassA__new_private'"
     ]
    }
   ],
   "source": [
    "a1.new_print()"
   ]
  },
  {
   "cell_type": "code",
   "execution_count": 38,
   "id": "25490366",
   "metadata": {},
   "outputs": [],
   "source": [
    "a1._ClassA__new_private = \"qwerty\""
   ]
  },
  {
   "cell_type": "code",
   "execution_count": 39,
   "id": "14de87a1",
   "metadata": {},
   "outputs": [
    {
     "data": {
      "text/plain": [
       "{'val': 42,\n",
       " '_protected': 'protected',\n",
       " '_ClassA__private': 'private',\n",
       " '_ClassA__new_private': 'qwerty'}"
      ]
     },
     "execution_count": 39,
     "metadata": {},
     "output_type": "execute_result"
    }
   ],
   "source": [
    "a1.__dict__"
   ]
  },
  {
   "cell_type": "code",
   "execution_count": 40,
   "id": "1a4ee2d6",
   "metadata": {},
   "outputs": [
    {
     "name": "stdout",
     "output_type": "stream",
     "text": [
      "self.__new_private='qwerty'\n"
     ]
    }
   ],
   "source": [
    "a1.new_print()"
   ]
  },
  {
   "cell_type": "code",
   "execution_count": null,
   "id": "ae746781",
   "metadata": {},
   "outputs": [],
   "source": []
  },
  {
   "cell_type": "code",
   "execution_count": null,
   "id": "2ce81abc",
   "metadata": {},
   "outputs": [],
   "source": []
  },
  {
   "cell_type": "code",
   "execution_count": null,
   "id": "859609a6",
   "metadata": {},
   "outputs": [],
   "source": []
  },
  {
   "cell_type": "code",
   "execution_count": 41,
   "id": "4e2a4059",
   "metadata": {},
   "outputs": [],
   "source": [
    "a = ClassA(42)"
   ]
  },
  {
   "cell_type": "code",
   "execution_count": 42,
   "id": "c96a06b1",
   "metadata": {},
   "outputs": [
    {
     "data": {
      "text/plain": [
       "{'val': 42, '_protected': 'protected', '_ClassA__private': 'private'}"
      ]
     },
     "execution_count": 42,
     "metadata": {},
     "output_type": "execute_result"
    }
   ],
   "source": [
    "a.__dict__"
   ]
  },
  {
   "cell_type": "code",
   "execution_count": 43,
   "id": "da4af71e",
   "metadata": {},
   "outputs": [
    {
     "data": {
      "text/plain": [
       "mappingproxy({'__module__': '__main__',\n",
       "              'name': 'cls_name',\n",
       "              '_ClassA__cls_private': 'cls_private',\n",
       "              '__init__': <function __main__.ClassA.__init__(self, val)>,\n",
       "              'print': <function __main__.ClassA.print(self)>,\n",
       "              'new_print': <function __main__.ClassA.new_print(self)>,\n",
       "              '__dict__': <attribute '__dict__' of 'ClassA' objects>,\n",
       "              '__weakref__': <attribute '__weakref__' of 'ClassA' objects>,\n",
       "              '__doc__': None})"
      ]
     },
     "execution_count": 43,
     "metadata": {},
     "output_type": "execute_result"
    }
   ],
   "source": [
    "ClassA.__dict__"
   ]
  },
  {
   "cell_type": "code",
   "execution_count": 44,
   "id": "6a3921c7",
   "metadata": {},
   "outputs": [
    {
     "data": {
      "text/plain": [
       "'cls_name'"
      ]
     },
     "execution_count": 44,
     "metadata": {},
     "output_type": "execute_result"
    }
   ],
   "source": [
    "a.name"
   ]
  },
  {
   "cell_type": "code",
   "execution_count": 45,
   "id": "1ede1c42",
   "metadata": {},
   "outputs": [],
   "source": [
    "a.name = \"instance_name\""
   ]
  },
  {
   "cell_type": "code",
   "execution_count": 46,
   "id": "57983920",
   "metadata": {},
   "outputs": [
    {
     "data": {
      "text/plain": [
       "'instance_name'"
      ]
     },
     "execution_count": 46,
     "metadata": {},
     "output_type": "execute_result"
    }
   ],
   "source": [
    "a.name"
   ]
  },
  {
   "cell_type": "code",
   "execution_count": 47,
   "id": "8623a92e",
   "metadata": {},
   "outputs": [
    {
     "data": {
      "text/plain": [
       "'cls_name'"
      ]
     },
     "execution_count": 47,
     "metadata": {},
     "output_type": "execute_result"
    }
   ],
   "source": [
    "ClassA.name"
   ]
  },
  {
   "cell_type": "code",
   "execution_count": 48,
   "id": "f6f9c4ef",
   "metadata": {},
   "outputs": [
    {
     "data": {
      "text/plain": [
       "{'val': 42,\n",
       " '_protected': 'protected',\n",
       " '_ClassA__private': 'private',\n",
       " 'name': 'instance_name'}"
      ]
     },
     "execution_count": 48,
     "metadata": {},
     "output_type": "execute_result"
    }
   ],
   "source": [
    "a.__dict__"
   ]
  },
  {
   "cell_type": "code",
   "execution_count": 49,
   "id": "f29cc34f",
   "metadata": {},
   "outputs": [
    {
     "data": {
      "text/plain": [
       "mappingproxy({'__module__': '__main__',\n",
       "              'name': 'cls_name',\n",
       "              '_ClassA__cls_private': 'cls_private',\n",
       "              '__init__': <function __main__.ClassA.__init__(self, val)>,\n",
       "              'print': <function __main__.ClassA.print(self)>,\n",
       "              'new_print': <function __main__.ClassA.new_print(self)>,\n",
       "              '__dict__': <attribute '__dict__' of 'ClassA' objects>,\n",
       "              '__weakref__': <attribute '__weakref__' of 'ClassA' objects>,\n",
       "              '__doc__': None})"
      ]
     },
     "execution_count": 49,
     "metadata": {},
     "output_type": "execute_result"
    }
   ],
   "source": [
    "ClassA.__dict__"
   ]
  },
  {
   "cell_type": "code",
   "execution_count": 50,
   "id": "f21e728a",
   "metadata": {},
   "outputs": [],
   "source": [
    "del a.name"
   ]
  },
  {
   "cell_type": "code",
   "execution_count": 51,
   "id": "4602ba58",
   "metadata": {},
   "outputs": [
    {
     "data": {
      "text/plain": [
       "{'val': 42, '_protected': 'protected', '_ClassA__private': 'private'}"
      ]
     },
     "execution_count": 51,
     "metadata": {},
     "output_type": "execute_result"
    }
   ],
   "source": [
    "a.__dict__"
   ]
  },
  {
   "cell_type": "code",
   "execution_count": 52,
   "id": "d9379b3d",
   "metadata": {},
   "outputs": [
    {
     "data": {
      "text/plain": [
       "'cls_name'"
      ]
     },
     "execution_count": 52,
     "metadata": {},
     "output_type": "execute_result"
    }
   ],
   "source": [
    "a.name"
   ]
  },
  {
   "cell_type": "code",
   "execution_count": 53,
   "id": "32eb6254",
   "metadata": {},
   "outputs": [
    {
     "ename": "AttributeError",
     "evalue": "name",
     "output_type": "error",
     "traceback": [
      "\u001b[0;31m---------------------------------------------------------------------------\u001b[0m",
      "\u001b[0;31mAttributeError\u001b[0m                            Traceback (most recent call last)",
      "Input \u001b[0;32mIn [53]\u001b[0m, in \u001b[0;36m<cell line: 1>\u001b[0;34m()\u001b[0m\n\u001b[0;32m----> 1\u001b[0m \u001b[38;5;28;01mdel\u001b[39;00m a\u001b[38;5;241m.\u001b[39mname\n",
      "\u001b[0;31mAttributeError\u001b[0m: name"
     ]
    }
   ],
   "source": [
    "del a.name"
   ]
  },
  {
   "cell_type": "code",
   "execution_count": null,
   "id": "babac6a3",
   "metadata": {},
   "outputs": [],
   "source": []
  },
  {
   "cell_type": "code",
   "execution_count": null,
   "id": "69bf7615",
   "metadata": {},
   "outputs": [],
   "source": []
  },
  {
   "cell_type": "code",
   "execution_count": 60,
   "id": "354062a8",
   "metadata": {},
   "outputs": [],
   "source": [
    "class ClassMeth:\n",
    "    name = \"cls_name\"\n",
    "    \n",
    "    @staticmethod\n",
    "    def print_info():\n",
    "        print(\"print_info\")\n",
    "        \n",
    "#     @staticmethod\n",
    "#     def init_99():\n",
    "#         return ClassMeth(99)\n",
    "    \n",
    "    @classmethod\n",
    "    def init_42(cls):\n",
    "        print(f\"Class {cls=}\")\n",
    "        return cls(42)\n",
    "\n",
    "    def __init__(self, val):\n",
    "        self.val = val\n",
    "\n",
    "    def inst_meth(self):\n",
    "        print(f\"Instance: {self.val=}\")\n"
   ]
  },
  {
   "cell_type": "code",
   "execution_count": 61,
   "id": "97a75bb8",
   "metadata": {},
   "outputs": [],
   "source": [
    "c = ClassMeth(99)"
   ]
  },
  {
   "cell_type": "code",
   "execution_count": 62,
   "id": "efbc4a91",
   "metadata": {},
   "outputs": [
    {
     "data": {
      "text/plain": [
       "<__main__.ClassMeth at 0x112c09bd0>"
      ]
     },
     "execution_count": 62,
     "metadata": {},
     "output_type": "execute_result"
    }
   ],
   "source": [
    "c"
   ]
  },
  {
   "cell_type": "code",
   "execution_count": 63,
   "id": "44f8b725",
   "metadata": {},
   "outputs": [
    {
     "name": "stdout",
     "output_type": "stream",
     "text": [
      "Class cls=<class '__main__.ClassMeth'>\n"
     ]
    }
   ],
   "source": [
    "c42 = ClassMeth.init_42()"
   ]
  },
  {
   "cell_type": "code",
   "execution_count": 64,
   "id": "459d44eb",
   "metadata": {},
   "outputs": [
    {
     "data": {
      "text/plain": [
       "<__main__.ClassMeth at 0x1123a3d30>"
      ]
     },
     "execution_count": 64,
     "metadata": {},
     "output_type": "execute_result"
    }
   ],
   "source": [
    "c42"
   ]
  },
  {
   "cell_type": "code",
   "execution_count": 65,
   "id": "cb386574",
   "metadata": {},
   "outputs": [
    {
     "name": "stdout",
     "output_type": "stream",
     "text": [
      "print_info\n",
      "print_info\n"
     ]
    },
    {
     "data": {
      "text/plain": [
       "(None, None)"
      ]
     },
     "execution_count": 65,
     "metadata": {},
     "output_type": "execute_result"
    }
   ],
   "source": [
    "c.print_info(), ClassMeth.print_info()"
   ]
  },
  {
   "cell_type": "code",
   "execution_count": 66,
   "id": "05dea339",
   "metadata": {},
   "outputs": [
    {
     "name": "stdout",
     "output_type": "stream",
     "text": [
      "Class cls=<class '__main__.ClassMeth'>\n"
     ]
    }
   ],
   "source": [
    "new_c = c42.init_42()"
   ]
  },
  {
   "cell_type": "code",
   "execution_count": 67,
   "id": "fff25a17",
   "metadata": {},
   "outputs": [
    {
     "data": {
      "text/plain": [
       "<__main__.ClassMeth at 0x112c0b1f0>"
      ]
     },
     "execution_count": 67,
     "metadata": {},
     "output_type": "execute_result"
    }
   ],
   "source": [
    "new_c"
   ]
  },
  {
   "cell_type": "code",
   "execution_count": 68,
   "id": "b093482c",
   "metadata": {},
   "outputs": [
    {
     "data": {
      "text/plain": [
       "<function __main__.ClassMeth.inst_meth(self)>"
      ]
     },
     "execution_count": 68,
     "metadata": {},
     "output_type": "execute_result"
    }
   ],
   "source": [
    "ClassMeth.inst_meth"
   ]
  },
  {
   "cell_type": "code",
   "execution_count": 69,
   "id": "1d013048",
   "metadata": {},
   "outputs": [
    {
     "data": {
      "text/plain": [
       "<bound method ClassMeth.inst_meth of <__main__.ClassMeth object at 0x112c0b1f0>>"
      ]
     },
     "execution_count": 69,
     "metadata": {},
     "output_type": "execute_result"
    }
   ],
   "source": [
    "new_c.inst_meth"
   ]
  },
  {
   "cell_type": "code",
   "execution_count": 70,
   "id": "af42dde6",
   "metadata": {},
   "outputs": [
    {
     "name": "stdout",
     "output_type": "stream",
     "text": [
      "Instance: self.val=42\n"
     ]
    }
   ],
   "source": [
    "new_c.inst_meth()"
   ]
  },
  {
   "cell_type": "code",
   "execution_count": 71,
   "id": "220e3587",
   "metadata": {},
   "outputs": [
    {
     "ename": "TypeError",
     "evalue": "ClassMeth.inst_meth() missing 1 required positional argument: 'self'",
     "output_type": "error",
     "traceback": [
      "\u001b[0;31m---------------------------------------------------------------------------\u001b[0m",
      "\u001b[0;31mTypeError\u001b[0m                                 Traceback (most recent call last)",
      "Input \u001b[0;32mIn [71]\u001b[0m, in \u001b[0;36m<cell line: 1>\u001b[0;34m()\u001b[0m\n\u001b[0;32m----> 1\u001b[0m \u001b[43mClassMeth\u001b[49m\u001b[38;5;241;43m.\u001b[39;49m\u001b[43minst_meth\u001b[49m\u001b[43m(\u001b[49m\u001b[43m)\u001b[49m\n",
      "\u001b[0;31mTypeError\u001b[0m: ClassMeth.inst_meth() missing 1 required positional argument: 'self'"
     ]
    }
   ],
   "source": [
    "ClassMeth.inst_meth()"
   ]
  },
  {
   "cell_type": "code",
   "execution_count": 72,
   "id": "d1ee0b28",
   "metadata": {},
   "outputs": [
    {
     "name": "stdout",
     "output_type": "stream",
     "text": [
      "Instance: self.val=42\n"
     ]
    }
   ],
   "source": [
    "ClassMeth.inst_meth(new_c)"
   ]
  },
  {
   "cell_type": "code",
   "execution_count": 74,
   "id": "8bd8b9ba",
   "metadata": {},
   "outputs": [
    {
     "name": "stdout",
     "output_type": "stream",
     "text": [
      "Instance: self.val=42\n"
     ]
    }
   ],
   "source": [
    "ClassMeth.inst_meth(a)"
   ]
  },
  {
   "cell_type": "code",
   "execution_count": null,
   "id": "333b71f5",
   "metadata": {},
   "outputs": [],
   "source": []
  },
  {
   "cell_type": "code",
   "execution_count": null,
   "id": "39994ec9",
   "metadata": {},
   "outputs": [],
   "source": []
  },
  {
   "cell_type": "code",
   "execution_count": 92,
   "id": "33edf4e5",
   "metadata": {},
   "outputs": [],
   "source": [
    "class Author:\n",
    "    def __init__(self, name, password):\n",
    "        self.__name = name\n",
    "        self.password_hash = None\n",
    "        self.password = password\n",
    "        \n",
    "    @property\n",
    "    def name(self):\n",
    "        \"\"\"name is read-only\"\"\"\n",
    "        return f\"Auth name={self.__name}\"\n",
    "    \n",
    "    @name.deleter\n",
    "    def name(self):\n",
    "        print(\"delete name\")\n",
    "        del self.__name\n",
    "    \n",
    "    @property\n",
    "    def password(self):\n",
    "        raise AttributeError(\"Password is write-only\")\n",
    "        \n",
    "    @password.setter\n",
    "    def password(self, plaintext):\n",
    "        print(\"set_password\", plaintext)\n",
    "        self.password_hash = hash(plaintext)"
   ]
  },
  {
   "cell_type": "code",
   "execution_count": 77,
   "id": "340b01be",
   "metadata": {},
   "outputs": [
    {
     "name": "stdout",
     "output_type": "stream",
     "text": [
      "set_password dkwhdwhduw\n"
     ]
    }
   ],
   "source": [
    "auth = Author(\"auth\", \"dkwhdwhduw\")"
   ]
  },
  {
   "cell_type": "code",
   "execution_count": 78,
   "id": "f0e90ab8",
   "metadata": {},
   "outputs": [
    {
     "data": {
      "text/plain": [
       "{'_Author__name': 'auth', 'password_hash': -1610148813401267514}"
      ]
     },
     "execution_count": 78,
     "metadata": {},
     "output_type": "execute_result"
    }
   ],
   "source": [
    "auth.__dict__"
   ]
  },
  {
   "cell_type": "code",
   "execution_count": 79,
   "id": "bc234648",
   "metadata": {},
   "outputs": [
    {
     "data": {
      "text/plain": [
       "mappingproxy({'__module__': '__main__',\n",
       "              '__init__': <function __main__.Author.__init__(self, name, password)>,\n",
       "              'name': <property at 0x1134b8590>,\n",
       "              'password': <property at 0x1134bb560>,\n",
       "              '__dict__': <attribute '__dict__' of 'Author' objects>,\n",
       "              '__weakref__': <attribute '__weakref__' of 'Author' objects>,\n",
       "              '__doc__': None})"
      ]
     },
     "execution_count": 79,
     "metadata": {},
     "output_type": "execute_result"
    }
   ],
   "source": [
    "Author.__dict__"
   ]
  },
  {
   "cell_type": "code",
   "execution_count": 80,
   "id": "11e4d038",
   "metadata": {},
   "outputs": [
    {
     "ename": "AttributeError",
     "evalue": "Password is write-only",
     "output_type": "error",
     "traceback": [
      "\u001b[0;31m---------------------------------------------------------------------------\u001b[0m",
      "\u001b[0;31mAttributeError\u001b[0m                            Traceback (most recent call last)",
      "Input \u001b[0;32mIn [80]\u001b[0m, in \u001b[0;36m<cell line: 1>\u001b[0;34m()\u001b[0m\n\u001b[0;32m----> 1\u001b[0m \u001b[43mauth\u001b[49m\u001b[38;5;241;43m.\u001b[39;49m\u001b[43mpassword\u001b[49m\n",
      "Input \u001b[0;32mIn [76]\u001b[0m, in \u001b[0;36mAuthor.password\u001b[0;34m(self)\u001b[0m\n\u001b[1;32m     17\u001b[0m \u001b[38;5;129m@property\u001b[39m\n\u001b[1;32m     18\u001b[0m \u001b[38;5;28;01mdef\u001b[39;00m \u001b[38;5;21mpassword\u001b[39m(\u001b[38;5;28mself\u001b[39m):\n\u001b[0;32m---> 19\u001b[0m     \u001b[38;5;28;01mraise\u001b[39;00m \u001b[38;5;167;01mAttributeError\u001b[39;00m(\u001b[38;5;124m\"\u001b[39m\u001b[38;5;124mPassword is write-only\u001b[39m\u001b[38;5;124m\"\u001b[39m)\n",
      "\u001b[0;31mAttributeError\u001b[0m: Password is write-only"
     ]
    }
   ],
   "source": [
    "auth.password"
   ]
  },
  {
   "cell_type": "code",
   "execution_count": 81,
   "id": "22caac69",
   "metadata": {},
   "outputs": [
    {
     "name": "stdout",
     "output_type": "stream",
     "text": [
      "set_password new_pass\n"
     ]
    }
   ],
   "source": [
    "auth.password = \"new_pass\""
   ]
  },
  {
   "cell_type": "code",
   "execution_count": 82,
   "id": "c2d83ca4",
   "metadata": {},
   "outputs": [
    {
     "data": {
      "text/plain": [
       "4550006047413580372"
      ]
     },
     "execution_count": 82,
     "metadata": {},
     "output_type": "execute_result"
    }
   ],
   "source": [
    "auth.password_hash"
   ]
  },
  {
   "cell_type": "code",
   "execution_count": 83,
   "id": "a59dce82",
   "metadata": {},
   "outputs": [
    {
     "data": {
      "text/plain": [
       "'auth'"
      ]
     },
     "execution_count": 83,
     "metadata": {},
     "output_type": "execute_result"
    }
   ],
   "source": [
    "auth.name"
   ]
  },
  {
   "cell_type": "code",
   "execution_count": 84,
   "id": "87e79585",
   "metadata": {},
   "outputs": [
    {
     "ename": "AttributeError",
     "evalue": "can't set attribute 'name'",
     "output_type": "error",
     "traceback": [
      "\u001b[0;31m---------------------------------------------------------------------------\u001b[0m",
      "\u001b[0;31mAttributeError\u001b[0m                            Traceback (most recent call last)",
      "Input \u001b[0;32mIn [84]\u001b[0m, in \u001b[0;36m<cell line: 1>\u001b[0;34m()\u001b[0m\n\u001b[0;32m----> 1\u001b[0m auth\u001b[38;5;241m.\u001b[39mname \u001b[38;5;241m=\u001b[39m \u001b[38;5;124m\"\u001b[39m\u001b[38;5;124mnew_name\u001b[39m\u001b[38;5;124m\"\u001b[39m\n",
      "\u001b[0;31mAttributeError\u001b[0m: can't set attribute 'name'"
     ]
    }
   ],
   "source": [
    "auth.name = \"new_name\""
   ]
  },
  {
   "cell_type": "code",
   "execution_count": 85,
   "id": "c4c33171",
   "metadata": {},
   "outputs": [
    {
     "data": {
      "text/plain": [
       "'auth'"
      ]
     },
     "execution_count": 85,
     "metadata": {},
     "output_type": "execute_result"
    }
   ],
   "source": [
    "auth.name"
   ]
  },
  {
   "cell_type": "code",
   "execution_count": 86,
   "id": "45b92d3c",
   "metadata": {},
   "outputs": [],
   "source": [
    "auth._Author__name = \"new_name\""
   ]
  },
  {
   "cell_type": "code",
   "execution_count": 87,
   "id": "4bfe2c63",
   "metadata": {},
   "outputs": [
    {
     "data": {
      "text/plain": [
       "'new_name'"
      ]
     },
     "execution_count": 87,
     "metadata": {},
     "output_type": "execute_result"
    }
   ],
   "source": [
    "auth.name"
   ]
  },
  {
   "cell_type": "code",
   "execution_count": 88,
   "id": "8c7076a5",
   "metadata": {},
   "outputs": [
    {
     "name": "stdout",
     "output_type": "stream",
     "text": [
      "delete name\n"
     ]
    }
   ],
   "source": [
    "del auth.name"
   ]
  },
  {
   "cell_type": "code",
   "execution_count": 89,
   "id": "c6dabeaa",
   "metadata": {},
   "outputs": [
    {
     "ename": "AttributeError",
     "evalue": "'Author' object has no attribute '_Author__name'",
     "output_type": "error",
     "traceback": [
      "\u001b[0;31m---------------------------------------------------------------------------\u001b[0m",
      "\u001b[0;31mAttributeError\u001b[0m                            Traceback (most recent call last)",
      "Input \u001b[0;32mIn [89]\u001b[0m, in \u001b[0;36m<cell line: 1>\u001b[0;34m()\u001b[0m\n\u001b[0;32m----> 1\u001b[0m \u001b[43mauth\u001b[49m\u001b[38;5;241;43m.\u001b[39;49m\u001b[43mname\u001b[49m\n",
      "Input \u001b[0;32mIn [76]\u001b[0m, in \u001b[0;36mAuthor.name\u001b[0;34m(self)\u001b[0m\n\u001b[1;32m      7\u001b[0m \u001b[38;5;129m@property\u001b[39m\n\u001b[1;32m      8\u001b[0m \u001b[38;5;28;01mdef\u001b[39;00m \u001b[38;5;21mname\u001b[39m(\u001b[38;5;28mself\u001b[39m):\n\u001b[1;32m      9\u001b[0m     \u001b[38;5;124;03m\"\"\"name is read-only\"\"\"\u001b[39;00m\n\u001b[0;32m---> 10\u001b[0m     \u001b[38;5;28;01mreturn\u001b[39;00m \u001b[38;5;28;43mself\u001b[39;49m\u001b[38;5;241;43m.\u001b[39;49m\u001b[43m__name\u001b[49m\n",
      "\u001b[0;31mAttributeError\u001b[0m: 'Author' object has no attribute '_Author__name'"
     ]
    }
   ],
   "source": [
    "auth.name"
   ]
  },
  {
   "cell_type": "code",
   "execution_count": 90,
   "id": "8ab0f7cf",
   "metadata": {},
   "outputs": [],
   "source": [
    "auth._Author__name = \"new_name\""
   ]
  },
  {
   "cell_type": "code",
   "execution_count": 91,
   "id": "5a88a61e",
   "metadata": {},
   "outputs": [
    {
     "data": {
      "text/plain": [
       "'new_name'"
      ]
     },
     "execution_count": 91,
     "metadata": {},
     "output_type": "execute_result"
    }
   ],
   "source": [
    "auth.name"
   ]
  },
  {
   "cell_type": "code",
   "execution_count": null,
   "id": "273c164b",
   "metadata": {},
   "outputs": [],
   "source": []
  },
  {
   "cell_type": "code",
   "execution_count": null,
   "id": "c73b8f5f",
   "metadata": {},
   "outputs": [],
   "source": []
  },
  {
   "cell_type": "code",
   "execution_count": 100,
   "id": "3df90957",
   "metadata": {},
   "outputs": [
    {
     "name": "stdout",
     "output_type": "stream",
     "text": [
      "4618562368\n",
      "4618562368\n",
      "4618562368\n",
      "[[0, 1, 2], [0, 1, 2], [0, 1, 2]]\n"
     ]
    }
   ],
   "source": [
    "def boo(n, l=list()):\n",
    "    print(id(l))\n",
    "    l.append(n)\n",
    "    return l\n",
    "\n",
    "res = [boo(n) for n in range(3)]\n",
    "print(res)"
   ]
  },
  {
   "cell_type": "code",
   "execution_count": 98,
   "id": "5fcdec0a",
   "metadata": {},
   "outputs": [
    {
     "data": {
      "text/plain": [
       "[4618563648, 4618563648, 4618563648]"
      ]
     },
     "execution_count": 98,
     "metadata": {},
     "output_type": "execute_result"
    }
   ],
   "source": [
    "list(map(id, res))"
   ]
  },
  {
   "cell_type": "code",
   "execution_count": null,
   "id": "c8eac475",
   "metadata": {},
   "outputs": [],
   "source": []
  },
  {
   "cell_type": "code",
   "execution_count": 102,
   "id": "f0f263b6",
   "metadata": {},
   "outputs": [
    {
     "name": "stdout",
     "output_type": "stream",
     "text": [
      "new\n",
      "init 42\n",
      "new\n",
      "init 99\n"
     ]
    },
    {
     "data": {
      "text/plain": [
       "True"
      ]
     },
     "execution_count": 102,
     "metadata": {},
     "output_type": "execute_result"
    }
   ],
   "source": [
    "class Singleton:\n",
    "    _instance = None\n",
    "\n",
    "    def __new__(cls, *args, **kwargs):\n",
    "        print(\"new\")\n",
    "    \n",
    "        if cls._instance is None:\n",
    "            cls._instance = super().__new__(cls)\n",
    "        return cls._instance\n",
    "    \n",
    "    def __init__(self, val):\n",
    "        print(\"init\", val)\n",
    "        self.val = val\n",
    "\n",
    "\n",
    "s1 = Singleton(42)\n",
    "s2 = Singleton(99)\n",
    "\n",
    "s1 is s2"
   ]
  },
  {
   "cell_type": "code",
   "execution_count": 104,
   "id": "2379ec3b",
   "metadata": {},
   "outputs": [
    {
     "data": {
      "text/plain": [
       "True"
      ]
     },
     "execution_count": 104,
     "metadata": {},
     "output_type": "execute_result"
    }
   ],
   "source": [
    "Singleton._instance is s1"
   ]
  },
  {
   "cell_type": "code",
   "execution_count": 111,
   "id": "08fbfccd",
   "metadata": {},
   "outputs": [],
   "source": [
    "class Connector:\n",
    "    def __init__(self, db_name):\n",
    "        #self.conn = DbDriver()\n",
    "        pass\n",
    "\n",
    "    def __del__(self):\n",
    "        #self.conn.close()\n",
    "        print(\"DEL\")\n",
    "\n",
    "\n",
    "db1 = Connector(\"users\")\n",
    "db2 = db1\n",
    "\n",
    "del db1"
   ]
  },
  {
   "cell_type": "code",
   "execution_count": null,
   "id": "bd98ef2c",
   "metadata": {},
   "outputs": [],
   "source": []
  },
  {
   "cell_type": "code",
   "execution_count": null,
   "id": "9a660394",
   "metadata": {},
   "outputs": [],
   "source": []
  },
  {
   "cell_type": "code",
   "execution_count": null,
   "id": "4c74772c",
   "metadata": {},
   "outputs": [],
   "source": []
  },
  {
   "cell_type": "code",
   "execution_count": null,
   "id": "6e84ce30",
   "metadata": {},
   "outputs": [],
   "source": []
  },
  {
   "cell_type": "code",
   "execution_count": 112,
   "id": "3ddb4d82",
   "metadata": {},
   "outputs": [
    {
     "name": "stdout",
     "output_type": "stream",
     "text": [
      "DEL\n"
     ]
    }
   ],
   "source": [
    "del db2"
   ]
  },
  {
   "cell_type": "code",
   "execution_count": 107,
   "id": "2a9e65b8",
   "metadata": {},
   "outputs": [
    {
     "data": {
      "text/plain": [
       "<__main__.Connector at 0x112c7dea0>"
      ]
     },
     "execution_count": 107,
     "metadata": {},
     "output_type": "execute_result"
    }
   ],
   "source": [
    "db"
   ]
  },
  {
   "cell_type": "code",
   "execution_count": 109,
   "id": "4ec9b37f",
   "metadata": {},
   "outputs": [
    {
     "ename": "NameError",
     "evalue": "name 'db' is not defined",
     "output_type": "error",
     "traceback": [
      "\u001b[0;31m---------------------------------------------------------------------------\u001b[0m",
      "\u001b[0;31mNameError\u001b[0m                                 Traceback (most recent call last)",
      "Input \u001b[0;32mIn [109]\u001b[0m, in \u001b[0;36m<cell line: 1>\u001b[0;34m()\u001b[0m\n\u001b[0;32m----> 1\u001b[0m \u001b[38;5;28;01mdel\u001b[39;00m db\n",
      "\u001b[0;31mNameError\u001b[0m: name 'db' is not defined"
     ]
    }
   ],
   "source": [
    "del db"
   ]
  },
  {
   "cell_type": "code",
   "execution_count": null,
   "id": "242ebca5",
   "metadata": {},
   "outputs": [],
   "source": []
  },
  {
   "cell_type": "code",
   "execution_count": null,
   "id": "ab88755a",
   "metadata": {},
   "outputs": [],
   "source": []
  },
  {
   "cell_type": "code",
   "execution_count": null,
   "id": "5005a31a",
   "metadata": {},
   "outputs": [],
   "source": []
  },
  {
   "cell_type": "code",
   "execution_count": 114,
   "id": "b4bf7073",
   "metadata": {},
   "outputs": [
    {
     "data": {
      "text/plain": [
       "([__main__.D, __main__.B, __main__.C, __main__.A, object],\n",
       " (__main__.D, __main__.B, __main__.C, __main__.A, object))"
      ]
     },
     "execution_count": 114,
     "metadata": {},
     "output_type": "execute_result"
    }
   ],
   "source": [
    "class A:\n",
    "    pass\n",
    "\n",
    "\n",
    "class B(A):\n",
    "    pass\n",
    "\n",
    "\n",
    "class C(A):\n",
    "    pass\n",
    "\n",
    "\n",
    "class D(B, C):\n",
    "    pass\n",
    "\n",
    "\n",
    "D.mro(), D.__mro__"
   ]
  },
  {
   "cell_type": "code",
   "execution_count": 115,
   "id": "4441916c",
   "metadata": {},
   "outputs": [
    {
     "ename": "TypeError",
     "evalue": "Cannot create a consistent method resolution\norder (MRO) for bases A, D",
     "output_type": "error",
     "traceback": [
      "\u001b[0;31m---------------------------------------------------------------------------\u001b[0m",
      "\u001b[0;31mTypeError\u001b[0m                                 Traceback (most recent call last)",
      "Input \u001b[0;32mIn [115]\u001b[0m, in \u001b[0;36m<cell line: 1>\u001b[0;34m()\u001b[0m\n\u001b[0;32m----> 1\u001b[0m \u001b[38;5;28;01mclass\u001b[39;00m \u001b[38;5;21;01mE\u001b[39;00m(A, D): \u001b[38;5;28;01mpass\u001b[39;00m\n",
      "\u001b[0;31mTypeError\u001b[0m: Cannot create a consistent method resolution\norder (MRO) for bases A, D"
     ]
    }
   ],
   "source": [
    "class E(A, D): pass"
   ]
  },
  {
   "cell_type": "code",
   "execution_count": null,
   "id": "d36971e0",
   "metadata": {},
   "outputs": [],
   "source": []
  },
  {
   "cell_type": "code",
   "execution_count": null,
   "id": "2bb12818",
   "metadata": {},
   "outputs": [],
   "source": []
  },
  {
   "cell_type": "code",
   "execution_count": null,
   "id": "1d2c4c2f",
   "metadata": {},
   "outputs": [],
   "source": []
  },
  {
   "cell_type": "code",
   "execution_count": 123,
   "id": "3381b2cb",
   "metadata": {},
   "outputs": [
    {
     "name": "stdout",
     "output_type": "stream",
     "text": [
      "__setattr__ name='val', val=42\n"
     ]
    }
   ],
   "source": [
    "class AttrAccess:\n",
    "    name = \"cls_AttrAccess\"\n",
    "\n",
    "    def __init__(self, val):\n",
    "        self.val = val\n",
    "\n",
    "    def __getattribute__(self, name):\n",
    "        print(f\"__getattribute__ {name=}\")\n",
    "        return super().__getattribute__(name)\n",
    "        \n",
    "    def __getattr__(self, name):\n",
    "        print(f\"__getattr__ {name=}\")\n",
    "#         return \"UNKNOWN\"\n",
    "        raise AttributeError(\"no attr {name}\")\n",
    "        \n",
    "    def __setattr__(self, name, val):\n",
    "        print(f\"__setattr__ {name=}, {val=}\")\n",
    "        return super().__setattr__(name, val)\n",
    "    \n",
    "    def __delattr__(self, name):\n",
    "        print(f\"__delattr__ {name=}\")\n",
    "        return super().__delattr__(name)\n",
    "\n",
    "    \n",
    "aa = AttrAccess(42)"
   ]
  },
  {
   "cell_type": "code",
   "execution_count": 118,
   "id": "1cf965e3",
   "metadata": {},
   "outputs": [
    {
     "name": "stdout",
     "output_type": "stream",
     "text": [
      "__getattribute__ name='val'\n"
     ]
    },
    {
     "data": {
      "text/plain": [
       "42"
      ]
     },
     "execution_count": 118,
     "metadata": {},
     "output_type": "execute_result"
    }
   ],
   "source": [
    "aa.val"
   ]
  },
  {
   "cell_type": "code",
   "execution_count": 119,
   "id": "c9760978",
   "metadata": {},
   "outputs": [
    {
     "name": "stdout",
     "output_type": "stream",
     "text": [
      "__getattribute__ name='val'\n"
     ]
    },
    {
     "data": {
      "text/plain": [
       "42"
      ]
     },
     "execution_count": 119,
     "metadata": {},
     "output_type": "execute_result"
    }
   ],
   "source": [
    "getattr(aa, \"val\")"
   ]
  },
  {
   "cell_type": "code",
   "execution_count": 120,
   "id": "bd3fbdd8",
   "metadata": {},
   "outputs": [
    {
     "name": "stdout",
     "output_type": "stream",
     "text": [
      "__getattribute__ name='unknown'\n",
      "__getattr__ name='unknown'\n"
     ]
    },
    {
     "ename": "AttributeError",
     "evalue": "no attr {name}",
     "output_type": "error",
     "traceback": [
      "\u001b[0;31m---------------------------------------------------------------------------\u001b[0m",
      "\u001b[0;31mAttributeError\u001b[0m                            Traceback (most recent call last)",
      "Input \u001b[0;32mIn [120]\u001b[0m, in \u001b[0;36m<cell line: 1>\u001b[0;34m()\u001b[0m\n\u001b[0;32m----> 1\u001b[0m \u001b[43maa\u001b[49m\u001b[38;5;241;43m.\u001b[39;49m\u001b[43munknown\u001b[49m\n",
      "Input \u001b[0;32mIn [116]\u001b[0m, in \u001b[0;36mAttrAccess.__getattr__\u001b[0;34m(self, name)\u001b[0m\n\u001b[1;32m     11\u001b[0m \u001b[38;5;28;01mdef\u001b[39;00m \u001b[38;5;21m__getattr__\u001b[39m(\u001b[38;5;28mself\u001b[39m, name):\n\u001b[1;32m     12\u001b[0m     \u001b[38;5;28mprint\u001b[39m(\u001b[38;5;124mf\u001b[39m\u001b[38;5;124m\"\u001b[39m\u001b[38;5;124m__getattr__ \u001b[39m\u001b[38;5;132;01m{\u001b[39;00mname\u001b[38;5;132;01m=}\u001b[39;00m\u001b[38;5;124m\"\u001b[39m)\n\u001b[0;32m---> 13\u001b[0m     \u001b[38;5;28;01mraise\u001b[39;00m \u001b[38;5;167;01mAttributeError\u001b[39;00m(\u001b[38;5;124m\"\u001b[39m\u001b[38;5;124mno attr \u001b[39m\u001b[38;5;132;01m{name}\u001b[39;00m\u001b[38;5;124m\"\u001b[39m)\n",
      "\u001b[0;31mAttributeError\u001b[0m: no attr {name}"
     ]
    }
   ],
   "source": [
    "aa.unknown"
   ]
  },
  {
   "cell_type": "code",
   "execution_count": 122,
   "id": "c053b5e8",
   "metadata": {},
   "outputs": [
    {
     "name": "stdout",
     "output_type": "stream",
     "text": [
      "__getattribute__ name='unknown'\n"
     ]
    },
    {
     "ename": "AttributeError",
     "evalue": "'AttrAccess' object has no attribute 'unknown'",
     "output_type": "error",
     "traceback": [
      "\u001b[0;31m---------------------------------------------------------------------------\u001b[0m",
      "\u001b[0;31mAttributeError\u001b[0m                            Traceback (most recent call last)",
      "Input \u001b[0;32mIn [122]\u001b[0m, in \u001b[0;36m<cell line: 1>\u001b[0;34m()\u001b[0m\n\u001b[0;32m----> 1\u001b[0m \u001b[43maa\u001b[49m\u001b[38;5;241;43m.\u001b[39;49m\u001b[43munknown\u001b[49m\n",
      "Input \u001b[0;32mIn [121]\u001b[0m, in \u001b[0;36mAttrAccess.__getattribute__\u001b[0;34m(self, name)\u001b[0m\n\u001b[1;32m      7\u001b[0m \u001b[38;5;28;01mdef\u001b[39;00m \u001b[38;5;21m__getattribute__\u001b[39m(\u001b[38;5;28mself\u001b[39m, name):\n\u001b[1;32m      8\u001b[0m     \u001b[38;5;28mprint\u001b[39m(\u001b[38;5;124mf\u001b[39m\u001b[38;5;124m\"\u001b[39m\u001b[38;5;124m__getattribute__ \u001b[39m\u001b[38;5;132;01m{\u001b[39;00mname\u001b[38;5;132;01m=}\u001b[39;00m\u001b[38;5;124m\"\u001b[39m)\n\u001b[0;32m----> 9\u001b[0m     \u001b[38;5;28;01mreturn\u001b[39;00m \u001b[38;5;28;43msuper\u001b[39;49m\u001b[43m(\u001b[49m\u001b[43m)\u001b[49m\u001b[38;5;241;43m.\u001b[39;49m\u001b[38;5;21;43m__getattribute__\u001b[39;49m\u001b[43m(\u001b[49m\u001b[43mname\u001b[49m\u001b[43m)\u001b[49m\n",
      "\u001b[0;31mAttributeError\u001b[0m: 'AttrAccess' object has no attribute 'unknown'"
     ]
    }
   ],
   "source": [
    "aa.unknown"
   ]
  },
  {
   "cell_type": "code",
   "execution_count": 124,
   "id": "52bac097",
   "metadata": {},
   "outputs": [
    {
     "name": "stdout",
     "output_type": "stream",
     "text": [
      "__getattribute__ name='unknown'\n",
      "__getattr__ name='unknown'\n"
     ]
    },
    {
     "data": {
      "text/plain": [
       "'UNKNOWN'"
      ]
     },
     "execution_count": 124,
     "metadata": {},
     "output_type": "execute_result"
    }
   ],
   "source": [
    "aa.unknown"
   ]
  },
  {
   "cell_type": "code",
   "execution_count": 125,
   "id": "b69549ab",
   "metadata": {},
   "outputs": [
    {
     "name": "stdout",
     "output_type": "stream",
     "text": [
      "__setattr__ name='unknown', val='xxx'\n"
     ]
    }
   ],
   "source": [
    "aa.unknown = \"xxx\""
   ]
  },
  {
   "cell_type": "code",
   "execution_count": 126,
   "id": "c197d557",
   "metadata": {},
   "outputs": [
    {
     "name": "stdout",
     "output_type": "stream",
     "text": [
      "__getattribute__ name='unknown'\n"
     ]
    },
    {
     "data": {
      "text/plain": [
       "'xxx'"
      ]
     },
     "execution_count": 126,
     "metadata": {},
     "output_type": "execute_result"
    }
   ],
   "source": [
    "aa.unknown"
   ]
  },
  {
   "cell_type": "code",
   "execution_count": 127,
   "id": "1a30fd46",
   "metadata": {},
   "outputs": [
    {
     "name": "stdout",
     "output_type": "stream",
     "text": [
      "__getattribute__ name='__dict__'\n"
     ]
    },
    {
     "data": {
      "text/plain": [
       "{'val': 42, 'unknown': 'xxx'}"
      ]
     },
     "execution_count": 127,
     "metadata": {},
     "output_type": "execute_result"
    }
   ],
   "source": [
    "aa.__dict__"
   ]
  },
  {
   "cell_type": "code",
   "execution_count": 128,
   "id": "2093705d",
   "metadata": {},
   "outputs": [
    {
     "name": "stdout",
     "output_type": "stream",
     "text": [
      "__delattr__ name='unknown'\n"
     ]
    }
   ],
   "source": [
    "del aa.unknown"
   ]
  },
  {
   "cell_type": "code",
   "execution_count": 129,
   "id": "6fa7ba92",
   "metadata": {},
   "outputs": [
    {
     "name": "stdout",
     "output_type": "stream",
     "text": [
      "__getattribute__ name='unknown'\n",
      "__getattr__ name='unknown'\n"
     ]
    },
    {
     "data": {
      "text/plain": [
       "'UNKNOWN'"
      ]
     },
     "execution_count": 129,
     "metadata": {},
     "output_type": "execute_result"
    }
   ],
   "source": [
    "aa.unknown"
   ]
  },
  {
   "cell_type": "code",
   "execution_count": null,
   "id": "3957f61d",
   "metadata": {},
   "outputs": [],
   "source": []
  },
  {
   "cell_type": "code",
   "execution_count": null,
   "id": "0abbd118",
   "metadata": {},
   "outputs": [],
   "source": []
  },
  {
   "cell_type": "code",
   "execution_count": null,
   "id": "2d2e8c91",
   "metadata": {},
   "outputs": [],
   "source": []
  },
  {
   "cell_type": "code",
   "execution_count": 138,
   "id": "7cce3e4e",
   "metadata": {},
   "outputs": [],
   "source": [
    "class Person:\n",
    "    def __init__(self, name):\n",
    "        self.name = name\n",
    "        self.__val = 99\n",
    "\n",
    "        print(f\"Person.init({self=}, {name=})\")\n",
    "\n",
    "    def grow(self):\n",
    "        print(f\"Person.grow({self=}, {self.__val=})\")\n",
    "\n",
    "\n",
    "class Student(Person):\n",
    "    def __init__(self, uni, *args, **kwargs):\n",
    "        print(f\"Student.init({self=}, {uni=})\")\n",
    "        \n",
    "        self.uni = uni\n",
    "        super().__init__(*args, **kwargs)\n",
    "        \n",
    "    \n",
    "class Teacher(Person):\n",
    "    def __init__(self, subject, *args, **kwargs):\n",
    "        print(f\"Teacher.init({self=}, {subject=})\")\n",
    "        \n",
    "        self.subject = subject\n",
    "        super().__init__(*args, **kwargs)\n",
    "        \n",
    "\n",
    "class Aspirant(Student, Teacher):\n",
    "    def print_data(self):\n",
    "        print(f\"Aspirant.grow({self=}, {self.__val=})\")"
   ]
  },
  {
   "cell_type": "code",
   "execution_count": 136,
   "id": "90738d94",
   "metadata": {},
   "outputs": [
    {
     "name": "stdout",
     "output_type": "stream",
     "text": [
      "Student.init(self=<__main__.Aspirant object at 0x112c08550>, uni='VSU')\n",
      "Teacher.init(self=<__main__.Aspirant object at 0x112c08550>, subject='python')\n",
      "Person.init(self=<__main__.Aspirant object at 0x112c08550>, name='Steve')\n"
     ]
    }
   ],
   "source": [
    "a = Aspirant(\"VSU\", \"python\", \"Steve\")"
   ]
  },
  {
   "cell_type": "code",
   "execution_count": 132,
   "id": "41194d09",
   "metadata": {},
   "outputs": [
    {
     "data": {
      "text/plain": [
       "(__main__.Aspirant,\n",
       " __main__.Student,\n",
       " __main__.Teacher,\n",
       " __main__.Person,\n",
       " object)"
      ]
     },
     "execution_count": 132,
     "metadata": {},
     "output_type": "execute_result"
    }
   ],
   "source": [
    "Aspirant.__mro__"
   ]
  },
  {
   "cell_type": "code",
   "execution_count": 134,
   "id": "d4bf24e8",
   "metadata": {},
   "outputs": [
    {
     "name": "stdout",
     "output_type": "stream",
     "text": [
      "Person.grow(self=<__main__.Aspirant object at 0x112c26ec0>)\n"
     ]
    }
   ],
   "source": [
    "a.grow()"
   ]
  },
  {
   "cell_type": "code",
   "execution_count": 137,
   "id": "966263f7",
   "metadata": {},
   "outputs": [
    {
     "data": {
      "text/plain": [
       "{'uni': 'VSU', 'subject': 'python', 'name': 'Steve', '_Person__val': 99}"
      ]
     },
     "execution_count": 137,
     "metadata": {},
     "output_type": "execute_result"
    }
   ],
   "source": [
    "a.__dict__"
   ]
  },
  {
   "cell_type": "code",
   "execution_count": 139,
   "id": "a51bbc4d",
   "metadata": {},
   "outputs": [
    {
     "name": "stdout",
     "output_type": "stream",
     "text": [
      "Student.init(self=<__main__.Aspirant object at 0x1123f7f70>, uni='VSU')\n",
      "Teacher.init(self=<__main__.Aspirant object at 0x1123f7f70>, subject='python')\n",
      "Person.init(self=<__main__.Aspirant object at 0x1123f7f70>, name='Steve')\n"
     ]
    }
   ],
   "source": [
    "a = Aspirant(\"VSU\", \"python\", \"Steve\")"
   ]
  },
  {
   "cell_type": "code",
   "execution_count": 140,
   "id": "0d11abcb",
   "metadata": {},
   "outputs": [
    {
     "ename": "AttributeError",
     "evalue": "'Aspirant' object has no attribute '_Aspirant__val'",
     "output_type": "error",
     "traceback": [
      "\u001b[0;31m---------------------------------------------------------------------------\u001b[0m",
      "\u001b[0;31mAttributeError\u001b[0m                            Traceback (most recent call last)",
      "Input \u001b[0;32mIn [140]\u001b[0m, in \u001b[0;36m<cell line: 1>\u001b[0;34m()\u001b[0m\n\u001b[0;32m----> 1\u001b[0m \u001b[43ma\u001b[49m\u001b[38;5;241;43m.\u001b[39;49m\u001b[43mprint_data\u001b[49m\u001b[43m(\u001b[49m\u001b[43m)\u001b[49m\n",
      "Input \u001b[0;32mIn [138]\u001b[0m, in \u001b[0;36mAspirant.print_data\u001b[0;34m(self)\u001b[0m\n\u001b[1;32m     29\u001b[0m \u001b[38;5;28;01mdef\u001b[39;00m \u001b[38;5;21mprint_data\u001b[39m(\u001b[38;5;28mself\u001b[39m):\n\u001b[0;32m---> 30\u001b[0m     \u001b[38;5;28mprint\u001b[39m(\u001b[38;5;124mf\u001b[39m\u001b[38;5;124m\"\u001b[39m\u001b[38;5;124mAspirant.grow(\u001b[39m\u001b[38;5;132;01m{\u001b[39;00m\u001b[38;5;28mself\u001b[39m\u001b[38;5;132;01m=}\u001b[39;00m\u001b[38;5;124m, \u001b[39m\u001b[38;5;132;01m{\u001b[39;00m\u001b[38;5;28mself\u001b[39m\u001b[38;5;241m.\u001b[39m__val\u001b[38;5;132;01m=}\u001b[39;00m\u001b[38;5;124m)\u001b[39m\u001b[38;5;124m\"\u001b[39m)\n",
      "\u001b[0;31mAttributeError\u001b[0m: 'Aspirant' object has no attribute '_Aspirant__val'"
     ]
    }
   ],
   "source": [
    "a.print_data()"
   ]
  },
  {
   "cell_type": "code",
   "execution_count": null,
   "id": "e090988c",
   "metadata": {},
   "outputs": [],
   "source": []
  }
 ],
 "metadata": {
  "kernelspec": {
   "display_name": "Python 3 (ipykernel)",
   "language": "python",
   "name": "python3"
  },
  "language_info": {
   "codemirror_mode": {
    "name": "ipython",
    "version": 3
   },
   "file_extension": ".py",
   "mimetype": "text/x-python",
   "name": "python",
   "nbconvert_exporter": "python",
   "pygments_lexer": "ipython3",
   "version": "3.10.2"
  }
 },
 "nbformat": 4,
 "nbformat_minor": 5
}
