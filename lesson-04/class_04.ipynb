{
 "cells": [
  {
   "cell_type": "code",
   "execution_count": 64,
   "id": "33ea193a",
   "metadata": {},
   "outputs": [
    {
     "name": "stdout",
     "output_type": "stream",
     "text": [
      "IntDescriptor.init\n",
      "IntDescriptor.init\n",
      "IntDescriptor.set_name <class '__main__.Person'> age\n",
      "IntDescriptor.set_name <class '__main__.Person'> height\n",
      "=====\n",
      "IntDescriptor.set <__main__.Person object at 0x105452440> 10\n",
      "IntDescriptor.set <__main__.Person object at 0x105452440> 170\n",
      "IntDescriptor.set <__main__.Person object at 0x105452500> 20\n",
      "IntDescriptor.set <__main__.Person object at 0x105452500> 220\n"
     ]
    }
   ],
   "source": [
    "class IntFloatDescriptor:\n",
    "    def __init__(self):\n",
    "        print(\"IntDescriptor.init\")\n",
    "#         self.name = f\"int_descr_{name}\"\n",
    "        \n",
    "    def __set_name__(self, owner, name):\n",
    "        print(\"IntDescriptor.set_name\", owner, name)\n",
    "        self.name = f\"int_descr_{name}\"\n",
    "\n",
    "    def __get__(self, obj, objtype):\n",
    "        print(\"IntDescriptor.get\", obj, objtype)\n",
    "        if obj is None:\n",
    "            return None\n",
    "\n",
    "        return getattr(obj, self.name)\n",
    "\n",
    "    def __set__(self, obj, val):\n",
    "        print(\"IntDescriptor.set\", obj, val)\n",
    "        if obj is None:\n",
    "            return None\n",
    "        \n",
    "        if not isinstance(val, (int, float)):\n",
    "            raise ValueError(\"int or float required\")\n",
    "\n",
    "        return setattr(obj, self.name, val)\n",
    "        \n",
    "    def __delete__(self, obj):\n",
    "        print(\"IntDescriptor.delete\", obj)\n",
    "\n",
    "\n",
    "class Person:\n",
    "    age: IntFloatDescriptor = IntFloatDescriptor()\n",
    "    height = IntFloatDescriptor()\n",
    "    \n",
    "    def __init__(self, age, height):\n",
    "        self.age = age\n",
    "        self.height = height\n",
    "\n",
    "    def move(self):\n",
    "        print(\"Person.move\")\n",
    "\n",
    "\n",
    "print(\"=====\")\n",
    "        \n",
    "p1 = Person(10, 170)\n",
    "p2 = Person(20, 220)"
   ]
  },
  {
   "cell_type": "code",
   "execution_count": 49,
   "id": "36bef599",
   "metadata": {},
   "outputs": [
    {
     "name": "stdout",
     "output_type": "stream",
     "text": [
      "IntDescriptor.set <__main__.Person object at 0x105840f10> 42\n",
      "IntDescriptor.set <__main__.Person object at 0x105840f10> 170\n",
      "IntDescriptor.set <__main__.Person object at 0x105841270> 99\n",
      "IntDescriptor.set <__main__.Person object at 0x105841270> 180\n"
     ]
    }
   ],
   "source": [
    "p1.age = 42\n",
    "p1.height = 170\n",
    "\n",
    "p2.age = 99\n",
    "p2.height = 180"
   ]
  },
  {
   "cell_type": "code",
   "execution_count": 50,
   "id": "ce906bbc",
   "metadata": {},
   "outputs": [
    {
     "data": {
      "text/plain": [
       "({'int_descr_age': 42, 'int_descr_height': 170},\n",
       " {'int_descr_age': 99, 'int_descr_height': 180})"
      ]
     },
     "execution_count": 50,
     "metadata": {},
     "output_type": "execute_result"
    }
   ],
   "source": [
    "p1.__dict__, p2.__dict__"
   ]
  },
  {
   "cell_type": "code",
   "execution_count": 63,
   "id": "d8dabcca",
   "metadata": {},
   "outputs": [
    {
     "name": "stdout",
     "output_type": "stream",
     "text": [
      "IntDescriptor.get <__main__.Person object at 0x1053bab30> <class '__main__.Person'>\n",
      "IntDescriptor.get <__main__.Person object at 0x105110f70> <class '__main__.Person'>\n",
      "IntDescriptor.get None <class '__main__.Person'>\n",
      "IntDescriptor.get <__main__.Person object at 0x1053bab30> <class '__main__.Person'>\n",
      "IntDescriptor.get <__main__.Person object at 0x105110f70> <class '__main__.Person'>\n"
     ]
    },
    {
     "data": {
      "text/plain": [
       "(10, 20, None, 170, 220)"
      ]
     },
     "execution_count": 63,
     "metadata": {},
     "output_type": "execute_result"
    }
   ],
   "source": [
    "p1.age, p2.age, Person.age, p1.height, p2.height"
   ]
  },
  {
   "cell_type": "code",
   "execution_count": null,
   "id": "93a28591",
   "metadata": {},
   "outputs": [],
   "source": []
  },
  {
   "cell_type": "code",
   "execution_count": 58,
   "id": "48f881ce",
   "metadata": {},
   "outputs": [
    {
     "name": "stdout",
     "output_type": "stream",
     "text": [
      "IntDescriptor.set <__main__.Person object at 0x105668a60> 10\n"
     ]
    }
   ],
   "source": [
    "p1.age = 10"
   ]
  },
  {
   "cell_type": "code",
   "execution_count": 59,
   "id": "79a40e7e",
   "metadata": {},
   "outputs": [
    {
     "name": "stdout",
     "output_type": "stream",
     "text": [
      "IntDescriptor.set <__main__.Person object at 0x105668a60> qwert\n"
     ]
    },
    {
     "ename": "ValueError",
     "evalue": "int or float required",
     "output_type": "error",
     "traceback": [
      "\u001b[0;31m---------------------------------------------------------------------------\u001b[0m",
      "\u001b[0;31mValueError\u001b[0m                                Traceback (most recent call last)",
      "Input \u001b[0;32mIn [59]\u001b[0m, in \u001b[0;36m<cell line: 1>\u001b[0;34m()\u001b[0m\n\u001b[0;32m----> 1\u001b[0m p1\u001b[38;5;241m.\u001b[39mheight \u001b[38;5;241m=\u001b[39m \u001b[38;5;124m\"\u001b[39m\u001b[38;5;124mqwert\u001b[39m\u001b[38;5;124m\"\u001b[39m\n",
      "Input \u001b[0;32mIn [57]\u001b[0m, in \u001b[0;36mIntFloatDescriptor.__set__\u001b[0;34m(self, obj, val)\u001b[0m\n\u001b[1;32m     20\u001b[0m     \u001b[38;5;28;01mreturn\u001b[39;00m \u001b[38;5;28;01mNone\u001b[39;00m\n\u001b[1;32m     22\u001b[0m \u001b[38;5;28;01mif\u001b[39;00m \u001b[38;5;129;01mnot\u001b[39;00m \u001b[38;5;28misinstance\u001b[39m(val, (\u001b[38;5;28mint\u001b[39m, \u001b[38;5;28mfloat\u001b[39m)):\n\u001b[0;32m---> 23\u001b[0m     \u001b[38;5;28;01mraise\u001b[39;00m \u001b[38;5;167;01mValueError\u001b[39;00m(\u001b[38;5;124m\"\u001b[39m\u001b[38;5;124mint or float required\u001b[39m\u001b[38;5;124m\"\u001b[39m)\n\u001b[1;32m     25\u001b[0m \u001b[38;5;28;01mreturn\u001b[39;00m \u001b[38;5;28msetattr\u001b[39m(obj, \u001b[38;5;28mself\u001b[39m\u001b[38;5;241m.\u001b[39mname, val)\n",
      "\u001b[0;31mValueError\u001b[0m: int or float required"
     ]
    }
   ],
   "source": [
    "p1.height = \"qwert\""
   ]
  },
  {
   "cell_type": "code",
   "execution_count": 60,
   "id": "a29e308a",
   "metadata": {},
   "outputs": [
    {
     "data": {
      "text/plain": [
       "{'int_descr_age': 10}"
      ]
     },
     "execution_count": 60,
     "metadata": {},
     "output_type": "execute_result"
    }
   ],
   "source": [
    "p1.__dict__"
   ]
  },
  {
   "cell_type": "code",
   "execution_count": null,
   "id": "c79f5b84",
   "metadata": {},
   "outputs": [],
   "source": []
  },
  {
   "cell_type": "code",
   "execution_count": 22,
   "id": "8746f158",
   "metadata": {},
   "outputs": [
    {
     "name": "stdout",
     "output_type": "stream",
     "text": [
      "IntDescriptor.get <__main__.Person object at 0x1050944f0> <class '__main__.Person'>\n"
     ]
    },
    {
     "data": {
      "text/plain": [
       "10"
      ]
     },
     "execution_count": 22,
     "metadata": {},
     "output_type": "execute_result"
    }
   ],
   "source": [
    "p1.age"
   ]
  },
  {
   "cell_type": "code",
   "execution_count": 23,
   "id": "04419cd8",
   "metadata": {},
   "outputs": [
    {
     "name": "stdout",
     "output_type": "stream",
     "text": [
      "IntDescriptor.get None <class '__main__.Person'>\n"
     ]
    },
    {
     "data": {
      "text/plain": [
       "10"
      ]
     },
     "execution_count": 23,
     "metadata": {},
     "output_type": "execute_result"
    }
   ],
   "source": [
    "Person.age"
   ]
  },
  {
   "cell_type": "code",
   "execution_count": 25,
   "id": "96037e3c",
   "metadata": {},
   "outputs": [
    {
     "name": "stdout",
     "output_type": "stream",
     "text": [
      "IntDescriptor.set <__main__.Person object at 0x1050944f0> 30\n"
     ]
    }
   ],
   "source": [
    "p1.age = 30"
   ]
  },
  {
   "cell_type": "code",
   "execution_count": 6,
   "id": "573183ca",
   "metadata": {},
   "outputs": [
    {
     "name": "stdout",
     "output_type": "stream",
     "text": [
      "IntDescriptor.delete <__main__.Person object at 0x1050e44c0>\n"
     ]
    }
   ],
   "source": [
    "del p.age"
   ]
  },
  {
   "cell_type": "code",
   "execution_count": 27,
   "id": "c642c35b",
   "metadata": {},
   "outputs": [
    {
     "name": "stdout",
     "output_type": "stream",
     "text": [
      "IntDescriptor.get <__main__.Person object at 0x1050944f0> <class '__main__.Person'>\n"
     ]
    },
    {
     "data": {
      "text/plain": [
       "30"
      ]
     },
     "execution_count": 27,
     "metadata": {},
     "output_type": "execute_result"
    }
   ],
   "source": [
    "p1.age"
   ]
  },
  {
   "cell_type": "code",
   "execution_count": 28,
   "id": "2e19cacb",
   "metadata": {},
   "outputs": [],
   "source": [
    "#Person.age = 40"
   ]
  },
  {
   "cell_type": "code",
   "execution_count": 29,
   "id": "4747480a",
   "metadata": {},
   "outputs": [
    {
     "name": "stdout",
     "output_type": "stream",
     "text": [
      "IntDescriptor.get None <class '__main__.Person'>\n",
      "IntDescriptor.get <__main__.Person object at 0x1050944f0> <class '__main__.Person'>\n"
     ]
    },
    {
     "data": {
      "text/plain": [
       "(30, 30)"
      ]
     },
     "execution_count": 29,
     "metadata": {},
     "output_type": "execute_result"
    }
   ],
   "source": [
    "Person.age, p1.age"
   ]
  },
  {
   "cell_type": "code",
   "execution_count": 30,
   "id": "688f1738",
   "metadata": {},
   "outputs": [],
   "source": [
    "p2 = Person()"
   ]
  },
  {
   "cell_type": "code",
   "execution_count": 31,
   "id": "d027a017",
   "metadata": {},
   "outputs": [
    {
     "name": "stdout",
     "output_type": "stream",
     "text": [
      "IntDescriptor.get <__main__.Person object at 0x105095c00> <class '__main__.Person'>\n"
     ]
    },
    {
     "data": {
      "text/plain": [
       "30"
      ]
     },
     "execution_count": 31,
     "metadata": {},
     "output_type": "execute_result"
    }
   ],
   "source": [
    "p2.age"
   ]
  },
  {
   "cell_type": "code",
   "execution_count": 32,
   "id": "d2ba152c",
   "metadata": {},
   "outputs": [
    {
     "data": {
      "text/plain": [
       "({}, {})"
      ]
     },
     "execution_count": 32,
     "metadata": {},
     "output_type": "execute_result"
    }
   ],
   "source": [
    "p.__dict__, p2.__dict__"
   ]
  },
  {
   "cell_type": "code",
   "execution_count": 33,
   "id": "b8a016a7",
   "metadata": {},
   "outputs": [
    {
     "data": {
      "text/plain": [
       "mappingproxy({'__module__': '__main__',\n",
       "              'age': <__main__.IntDescriptor at 0x1050973d0>,\n",
       "              'move': <function __main__.Person.move(self)>,\n",
       "              '__dict__': <attribute '__dict__' of 'Person' objects>,\n",
       "              '__weakref__': <attribute '__weakref__' of 'Person' objects>,\n",
       "              '__doc__': None})"
      ]
     },
     "execution_count": 33,
     "metadata": {},
     "output_type": "execute_result"
    }
   ],
   "source": [
    "Person.__dict__"
   ]
  },
  {
   "cell_type": "code",
   "execution_count": null,
   "id": "4279cf0d",
   "metadata": {},
   "outputs": [],
   "source": []
  },
  {
   "cell_type": "code",
   "execution_count": null,
   "id": "5fd9789c",
   "metadata": {},
   "outputs": [],
   "source": []
  },
  {
   "cell_type": "code",
   "execution_count": null,
   "id": "31a99e3b",
   "metadata": {},
   "outputs": [],
   "source": []
  },
  {
   "cell_type": "code",
   "execution_count": 81,
   "id": "271b28f1",
   "metadata": {},
   "outputs": [
    {
     "name": "stdout",
     "output_type": "stream",
     "text": [
      "IntDescriptor.init\n",
      "IntDescriptor.init\n",
      "NonDataDescriptor.init\n",
      "IntDescriptor.set_name <class '__main__.Person'> age\n",
      "IntDescriptor.set_name <class '__main__.Person'> height\n",
      "NonDataDescriptor.set_name <class '__main__.Person'> non_data\n",
      "=====\n",
      "IntDescriptor.set <__main__.Person object at 0x1054748b0> 10\n",
      "IntDescriptor.set <__main__.Person object at 0x1054748b0> 170\n",
      "IntDescriptor.set <__main__.Person object at 0x105869210> 20\n",
      "IntDescriptor.set <__main__.Person object at 0x105869210> 220\n"
     ]
    }
   ],
   "source": [
    "class IntFloatDescriptor:\n",
    "    def __init__(self):\n",
    "        print(\"IntDescriptor.init\")\n",
    "        \n",
    "    def __set_name__(self, owner, name):\n",
    "        print(\"IntDescriptor.set_name\", owner, name)\n",
    "        self.name = f\"_int_descr_{name}\"\n",
    "\n",
    "    def __get__(self, obj, objtype):\n",
    "        print(\"IntDescriptor.get\", obj, objtype)\n",
    "        if obj is None:\n",
    "            return None\n",
    "\n",
    "        return getattr(obj, self.name)\n",
    "\n",
    "    def __set__(self, obj, val):\n",
    "        print(\"IntDescriptor.set\", obj, val)\n",
    "        if obj is None:\n",
    "            return None\n",
    "        \n",
    "        if not isinstance(val, (int, float)):\n",
    "            raise ValueError(\"int or float required\")\n",
    "\n",
    "        return setattr(obj, self.name, val)\n",
    "\n",
    "    \n",
    "class NonDataDescriptor:\n",
    "    def __init__(self):\n",
    "        print(\"NonDataDescriptor.init\")\n",
    "        \n",
    "    def __set_name__(self, owner, name):\n",
    "        print(\"NonDataDescriptor.set_name\", owner, name)\n",
    "        self.name = f\"_non_data_descr_{name}\"\n",
    "\n",
    "    def __get__(self, obj, objtype):\n",
    "        print(\"NonDataDescriptor.get\", obj, objtype)\n",
    "        \n",
    "        return getattr(obj, self.name)\n",
    "\n",
    "\n",
    "class Person:\n",
    "    age: IntFloatDescriptor = IntFloatDescriptor()\n",
    "    height = IntFloatDescriptor()\n",
    "    non_data = NonDataDescriptor()\n",
    "    \n",
    "    def __init__(self, age, height):\n",
    "        self.age = age\n",
    "        self.height = height\n",
    "\n",
    "    def move(self):\n",
    "        print(\"Person.move\")\n",
    "\n",
    "\n",
    "print(\"=====\")\n",
    "        \n",
    "p1 = Person(10, 170)\n",
    "p2 = Person(20, 220)"
   ]
  },
  {
   "cell_type": "code",
   "execution_count": 68,
   "id": "57fddc2c",
   "metadata": {},
   "outputs": [
    {
     "data": {
      "text/plain": [
       "{'_int_descr_age': 10, '_int_descr_height': 170}"
      ]
     },
     "execution_count": 68,
     "metadata": {},
     "output_type": "execute_result"
    }
   ],
   "source": [
    "p1.__dict__"
   ]
  },
  {
   "cell_type": "code",
   "execution_count": 69,
   "id": "0a3b8951",
   "metadata": {},
   "outputs": [],
   "source": [
    "p1._int_descr_age = 30"
   ]
  },
  {
   "cell_type": "code",
   "execution_count": 70,
   "id": "57d656d7",
   "metadata": {},
   "outputs": [
    {
     "name": "stdout",
     "output_type": "stream",
     "text": [
      "IntDescriptor.get <__main__.Person object at 0x1054521a0> <class '__main__.Person'>\n"
     ]
    },
    {
     "data": {
      "text/plain": [
       "30"
      ]
     },
     "execution_count": 70,
     "metadata": {},
     "output_type": "execute_result"
    }
   ],
   "source": [
    "p1.age"
   ]
  },
  {
   "cell_type": "code",
   "execution_count": 71,
   "id": "bbf79eb7",
   "metadata": {},
   "outputs": [],
   "source": [
    "p1.__dict__[\"age\"] = \"qwerty\""
   ]
  },
  {
   "cell_type": "code",
   "execution_count": 72,
   "id": "5390acd9",
   "metadata": {},
   "outputs": [
    {
     "data": {
      "text/plain": [
       "{'_int_descr_age': 30, '_int_descr_height': 170, 'age': 'qwerty'}"
      ]
     },
     "execution_count": 72,
     "metadata": {},
     "output_type": "execute_result"
    }
   ],
   "source": [
    "p1.__dict__"
   ]
  },
  {
   "cell_type": "code",
   "execution_count": 73,
   "id": "fa3980a2",
   "metadata": {},
   "outputs": [
    {
     "data": {
      "text/plain": [
       "mappingproxy({'__module__': '__main__',\n",
       "              '__annotations__': {'age': __main__.IntFloatDescriptor},\n",
       "              'age': <__main__.IntFloatDescriptor at 0x105451660>,\n",
       "              'height': <__main__.IntFloatDescriptor at 0x1055d7520>,\n",
       "              '__init__': <function __main__.Person.__init__(self, age, height)>,\n",
       "              'move': <function __main__.Person.move(self)>,\n",
       "              '__dict__': <attribute '__dict__' of 'Person' objects>,\n",
       "              '__weakref__': <attribute '__weakref__' of 'Person' objects>,\n",
       "              '__doc__': None})"
      ]
     },
     "execution_count": 73,
     "metadata": {},
     "output_type": "execute_result"
    }
   ],
   "source": [
    "Person.__dict__"
   ]
  },
  {
   "cell_type": "code",
   "execution_count": 74,
   "id": "2704dd6d",
   "metadata": {},
   "outputs": [
    {
     "name": "stdout",
     "output_type": "stream",
     "text": [
      "IntDescriptor.get <__main__.Person object at 0x1054521a0> <class '__main__.Person'>\n"
     ]
    },
    {
     "data": {
      "text/plain": [
       "30"
      ]
     },
     "execution_count": 74,
     "metadata": {},
     "output_type": "execute_result"
    }
   ],
   "source": [
    "p1.age"
   ]
  },
  {
   "cell_type": "code",
   "execution_count": 75,
   "id": "cd903e77",
   "metadata": {},
   "outputs": [
    {
     "name": "stdout",
     "output_type": "stream",
     "text": [
      "IntDescriptor.get <__main__.Person object at 0x1054521a0> <class '__main__.Person'>\n"
     ]
    },
    {
     "data": {
      "text/plain": [
       "30"
      ]
     },
     "execution_count": 75,
     "metadata": {},
     "output_type": "execute_result"
    }
   ],
   "source": [
    "getattr(p1, \"age\")"
   ]
  },
  {
   "cell_type": "code",
   "execution_count": 76,
   "id": "4eb017c6",
   "metadata": {},
   "outputs": [],
   "source": [
    "p1._int_descr_age = \"22jfjf\""
   ]
  },
  {
   "cell_type": "code",
   "execution_count": 77,
   "id": "789c36ad",
   "metadata": {},
   "outputs": [
    {
     "name": "stdout",
     "output_type": "stream",
     "text": [
      "IntDescriptor.get <__main__.Person object at 0x1054521a0> <class '__main__.Person'>\n"
     ]
    },
    {
     "data": {
      "text/plain": [
       "'22jfjf'"
      ]
     },
     "execution_count": 77,
     "metadata": {},
     "output_type": "execute_result"
    }
   ],
   "source": [
    "p1.age"
   ]
  },
  {
   "cell_type": "code",
   "execution_count": 78,
   "id": "43176df7",
   "metadata": {},
   "outputs": [
    {
     "name": "stdout",
     "output_type": "stream",
     "text": [
      "IntDescriptor.set <__main__.Person object at 0x1054521a0> 42\n"
     ]
    }
   ],
   "source": [
    "p1.age = 42"
   ]
  },
  {
   "cell_type": "code",
   "execution_count": 79,
   "id": "d10a0890",
   "metadata": {},
   "outputs": [
    {
     "name": "stdout",
     "output_type": "stream",
     "text": [
      "IntDescriptor.get <__main__.Person object at 0x1054521a0> <class '__main__.Person'>\n"
     ]
    },
    {
     "data": {
      "text/plain": [
       "42"
      ]
     },
     "execution_count": 79,
     "metadata": {},
     "output_type": "execute_result"
    }
   ],
   "source": [
    "p1.age"
   ]
  },
  {
   "cell_type": "code",
   "execution_count": 80,
   "id": "6f04638e",
   "metadata": {},
   "outputs": [
    {
     "data": {
      "text/plain": [
       "{'_int_descr_age': 42, '_int_descr_height': 170, 'age': 'qwerty'}"
      ]
     },
     "execution_count": 80,
     "metadata": {},
     "output_type": "execute_result"
    }
   ],
   "source": [
    "p1.__dict__"
   ]
  },
  {
   "cell_type": "code",
   "execution_count": 82,
   "id": "7c90dc15",
   "metadata": {},
   "outputs": [
    {
     "data": {
      "text/plain": [
       "{'_int_descr_age': 10, '_int_descr_height': 170}"
      ]
     },
     "execution_count": 82,
     "metadata": {},
     "output_type": "execute_result"
    }
   ],
   "source": [
    "p1.__dict__"
   ]
  },
  {
   "cell_type": "code",
   "execution_count": 83,
   "id": "d912a5e1",
   "metadata": {},
   "outputs": [
    {
     "name": "stdout",
     "output_type": "stream",
     "text": [
      "NonDataDescriptor.get <__main__.Person object at 0x1054748b0> <class '__main__.Person'>\n"
     ]
    },
    {
     "ename": "AttributeError",
     "evalue": "'Person' object has no attribute '_non_data_descr_non_data'",
     "output_type": "error",
     "traceback": [
      "\u001b[0;31m---------------------------------------------------------------------------\u001b[0m",
      "\u001b[0;31mAttributeError\u001b[0m                            Traceback (most recent call last)",
      "Input \u001b[0;32mIn [83]\u001b[0m, in \u001b[0;36m<cell line: 1>\u001b[0;34m()\u001b[0m\n\u001b[0;32m----> 1\u001b[0m \u001b[43mp1\u001b[49m\u001b[38;5;241;43m.\u001b[39;49m\u001b[43mnon_data\u001b[49m\n",
      "Input \u001b[0;32mIn [81]\u001b[0m, in \u001b[0;36mNonDataDescriptor.__get__\u001b[0;34m(self, obj, objtype)\u001b[0m\n\u001b[1;32m     35\u001b[0m \u001b[38;5;28;01mdef\u001b[39;00m \u001b[38;5;21m__get__\u001b[39m(\u001b[38;5;28mself\u001b[39m, obj, objtype):\n\u001b[1;32m     36\u001b[0m     \u001b[38;5;28mprint\u001b[39m(\u001b[38;5;124m\"\u001b[39m\u001b[38;5;124mNonDataDescriptor.get\u001b[39m\u001b[38;5;124m\"\u001b[39m, obj, objtype)\n\u001b[0;32m---> 38\u001b[0m     \u001b[38;5;28;01mreturn\u001b[39;00m \u001b[38;5;28;43mgetattr\u001b[39;49m\u001b[43m(\u001b[49m\u001b[43mobj\u001b[49m\u001b[43m,\u001b[49m\u001b[43m \u001b[49m\u001b[38;5;28;43mself\u001b[39;49m\u001b[38;5;241;43m.\u001b[39;49m\u001b[43mname\u001b[49m\u001b[43m)\u001b[49m\n",
      "\u001b[0;31mAttributeError\u001b[0m: 'Person' object has no attribute '_non_data_descr_non_data'"
     ]
    }
   ],
   "source": [
    "p1.non_data"
   ]
  },
  {
   "cell_type": "code",
   "execution_count": 84,
   "id": "9895f056",
   "metadata": {},
   "outputs": [],
   "source": [
    "p1.__dict__[\"_non_data_descr_non_data\"] = \"NotAData\""
   ]
  },
  {
   "cell_type": "code",
   "execution_count": 85,
   "id": "5bd77a4f",
   "metadata": {},
   "outputs": [
    {
     "name": "stdout",
     "output_type": "stream",
     "text": [
      "NonDataDescriptor.get <__main__.Person object at 0x1054748b0> <class '__main__.Person'>\n"
     ]
    },
    {
     "data": {
      "text/plain": [
       "'NotAData'"
      ]
     },
     "execution_count": 85,
     "metadata": {},
     "output_type": "execute_result"
    }
   ],
   "source": [
    "p1.non_data"
   ]
  },
  {
   "cell_type": "code",
   "execution_count": 86,
   "id": "ddad25a7",
   "metadata": {},
   "outputs": [],
   "source": [
    "p1.non_data = \"new_non_data\""
   ]
  },
  {
   "cell_type": "code",
   "execution_count": 87,
   "id": "e23c83bc",
   "metadata": {},
   "outputs": [
    {
     "data": {
      "text/plain": [
       "'new_non_data'"
      ]
     },
     "execution_count": 87,
     "metadata": {},
     "output_type": "execute_result"
    }
   ],
   "source": [
    "p1.non_data"
   ]
  },
  {
   "cell_type": "code",
   "execution_count": 88,
   "id": "a51f5708",
   "metadata": {},
   "outputs": [
    {
     "data": {
      "text/plain": [
       "{'_int_descr_age': 10,\n",
       " '_int_descr_height': 170,\n",
       " '_non_data_descr_non_data': 'NotAData',\n",
       " 'non_data': 'new_non_data'}"
      ]
     },
     "execution_count": 88,
     "metadata": {},
     "output_type": "execute_result"
    }
   ],
   "source": [
    "p1.__dict__"
   ]
  },
  {
   "cell_type": "code",
   "execution_count": 89,
   "id": "9f305450",
   "metadata": {},
   "outputs": [
    {
     "data": {
      "text/plain": [
       "mappingproxy({'__module__': '__main__',\n",
       "              '__annotations__': {'age': __main__.IntFloatDescriptor},\n",
       "              'age': <__main__.IntFloatDescriptor at 0x105669ae0>,\n",
       "              'height': <__main__.IntFloatDescriptor at 0x1050ac880>,\n",
       "              'non_data': <__main__.NonDataDescriptor at 0x105475030>,\n",
       "              '__init__': <function __main__.Person.__init__(self, age, height)>,\n",
       "              'move': <function __main__.Person.move(self)>,\n",
       "              '__dict__': <attribute '__dict__' of 'Person' objects>,\n",
       "              '__weakref__': <attribute '__weakref__' of 'Person' objects>,\n",
       "              '__doc__': None})"
      ]
     },
     "execution_count": 89,
     "metadata": {},
     "output_type": "execute_result"
    }
   ],
   "source": [
    "Person.__dict__"
   ]
  },
  {
   "cell_type": "code",
   "execution_count": 90,
   "id": "9dce39d2",
   "metadata": {},
   "outputs": [
    {
     "data": {
      "text/plain": [
       "<slot wrapper '__get__' of 'method' objects>"
      ]
     },
     "execution_count": 90,
     "metadata": {},
     "output_type": "execute_result"
    }
   ],
   "source": [
    "p1.move.__class__.__get__"
   ]
  },
  {
   "cell_type": "code",
   "execution_count": 91,
   "id": "df47ec5b",
   "metadata": {},
   "outputs": [
    {
     "ename": "AttributeError",
     "evalue": "type object 'method' has no attribute '__set__'",
     "output_type": "error",
     "traceback": [
      "\u001b[0;31m---------------------------------------------------------------------------\u001b[0m",
      "\u001b[0;31mAttributeError\u001b[0m                            Traceback (most recent call last)",
      "Input \u001b[0;32mIn [91]\u001b[0m, in \u001b[0;36m<cell line: 1>\u001b[0;34m()\u001b[0m\n\u001b[0;32m----> 1\u001b[0m \u001b[43mp1\u001b[49m\u001b[38;5;241;43m.\u001b[39;49m\u001b[43mmove\u001b[49m\u001b[38;5;241;43m.\u001b[39;49m\u001b[38;5;18;43m__class__\u001b[39;49m\u001b[38;5;241;43m.\u001b[39;49m\u001b[38;5;21;43m__set__\u001b[39;49m\n",
      "\u001b[0;31mAttributeError\u001b[0m: type object 'method' has no attribute '__set__'"
     ]
    }
   ],
   "source": [
    "p1.move.__class__.__set__"
   ]
  },
  {
   "cell_type": "code",
   "execution_count": 94,
   "id": "125787e9",
   "metadata": {},
   "outputs": [
    {
     "data": {
      "text/plain": [
       "<method-wrapper '__get__' of method object at 0x106065a80>"
      ]
     },
     "execution_count": 94,
     "metadata": {},
     "output_type": "execute_result"
    }
   ],
   "source": [
    "p1.move.__get__"
   ]
  },
  {
   "cell_type": "code",
   "execution_count": 96,
   "id": "fb81b87d",
   "metadata": {},
   "outputs": [
    {
     "name": "stdout",
     "output_type": "stream",
     "text": [
      "IntDescriptor.get <__main__.Person object at 0x1054748b0> <class '__main__.Person'>\n"
     ]
    },
    {
     "data": {
      "text/plain": [
       "int"
      ]
     },
     "execution_count": 96,
     "metadata": {},
     "output_type": "execute_result"
    }
   ],
   "source": [
    "p1.age.__class__"
   ]
  },
  {
   "cell_type": "code",
   "execution_count": 97,
   "id": "f835e45a",
   "metadata": {},
   "outputs": [],
   "source": [
    "p1.move = \"qwerty\""
   ]
  },
  {
   "cell_type": "code",
   "execution_count": 98,
   "id": "72d1586c",
   "metadata": {},
   "outputs": [
    {
     "data": {
      "text/plain": [
       "'qwerty'"
      ]
     },
     "execution_count": 98,
     "metadata": {},
     "output_type": "execute_result"
    }
   ],
   "source": [
    "p1.move"
   ]
  },
  {
   "cell_type": "code",
   "execution_count": 100,
   "id": "41a00f93",
   "metadata": {},
   "outputs": [
    {
     "name": "stdout",
     "output_type": "stream",
     "text": [
      "Person.move\n"
     ]
    }
   ],
   "source": [
    "type(p1).__dict__[\"move\"].__get__(p1, type(p1))()"
   ]
  },
  {
   "cell_type": "code",
   "execution_count": 101,
   "id": "600b4328",
   "metadata": {},
   "outputs": [
    {
     "name": "stdout",
     "output_type": "stream",
     "text": [
      "NonDataDescriptor.get <__main__.Person object at 0x1054748b0> <class '__main__.Person'>\n"
     ]
    },
    {
     "data": {
      "text/plain": [
       "'NotAData'"
      ]
     },
     "execution_count": 101,
     "metadata": {},
     "output_type": "execute_result"
    }
   ],
   "source": [
    "type(p1).__dict__[\"non_data\"].__get__(p1, type(p1))"
   ]
  },
  {
   "cell_type": "code",
   "execution_count": 102,
   "id": "eddcf8ac",
   "metadata": {},
   "outputs": [
    {
     "data": {
      "text/plain": [
       "'new_non_data'"
      ]
     },
     "execution_count": 102,
     "metadata": {},
     "output_type": "execute_result"
    }
   ],
   "source": [
    "p1.non_data"
   ]
  },
  {
   "cell_type": "code",
   "execution_count": null,
   "id": "c3d7059b",
   "metadata": {},
   "outputs": [],
   "source": []
  },
  {
   "cell_type": "code",
   "execution_count": null,
   "id": "950bfc92",
   "metadata": {},
   "outputs": [],
   "source": []
  },
  {
   "cell_type": "code",
   "execution_count": null,
   "id": "f8e21f51",
   "metadata": {},
   "outputs": [],
   "source": []
  },
  {
   "cell_type": "code",
   "execution_count": null,
   "id": "6408706d",
   "metadata": {},
   "outputs": [],
   "source": []
  },
  {
   "cell_type": "code",
   "execution_count": 103,
   "id": "ad0a131a",
   "metadata": {},
   "outputs": [],
   "source": [
    "class AMeta(type):\n",
    "    def __new__(mcs, name, bases, classdict, **kwargs):\n",
    "        cls = super().__new__(mcs, name, bases, classdict)\n",
    "        print(\"Meta __new__\", cls)\n",
    "\n",
    "        return cls\n",
    "\n",
    "    def __init__(cls, name, bases, classdict, **kwargs):\n",
    "        print(\"Meta __init__\", cls, name, bases, classdict)\n",
    "        super().__init__(name, bases, classdict, **kwargs)\n",
    "\n",
    "    def __call__(cls, *args, **kwargs):\n",
    "        print(\"Meta __call__\", cls, args, kwargs)\n",
    "        return super().__call__(*args, **kwargs)\n",
    "\n",
    "    @classmethod\n",
    "    def __prepare__(mcs, name, bases, **kwargs):\n",
    "        print(\"Meta __prepare__\", mcs, name, bases, kwargs)\n",
    "        \n",
    "        return {\"added_attr_a\": 2, \"added_attr_b\": 99}"
   ]
  },
  {
   "cell_type": "code",
   "execution_count": 104,
   "id": "9ea45fa8",
   "metadata": {},
   "outputs": [
    {
     "name": "stdout",
     "output_type": "stream",
     "text": [
      "Meta __prepare__ <class '__main__.AMeta'> House () {}\n",
      "Meta __new__ <class '__main__.House'>\n",
      "Meta __init__ <class '__main__.House'> House () {'added_attr_a': 2, 'added_attr_b': 99, '__module__': '__main__', '__qualname__': 'House', '__new__': <function House.__new__ at 0x1061f9000>, '__init__': <function House.__init__ at 0x1061f96c0>, '__classcell__': <cell at 0x105869510: AMeta object at 0x7f942afa9d60>}\n"
     ]
    }
   ],
   "source": [
    "class House(metaclass=AMeta):\n",
    "    def __new__(cls, *args, **kwargs):\n",
    "        print(\"House.new\", cls, args, kwargs)\n",
    "        return super().__new__(cls)\n",
    "\n",
    "    def __init__(self):\n",
    "        print(\"House.init\")"
   ]
  },
  {
   "cell_type": "code",
   "execution_count": 105,
   "id": "8ef63556",
   "metadata": {},
   "outputs": [
    {
     "name": "stdout",
     "output_type": "stream",
     "text": [
      "Meta __call__ <class '__main__.House'> () {}\n",
      "House.new <class '__main__.House'> () {}\n",
      "House.init\n"
     ]
    }
   ],
   "source": [
    "dom = House()"
   ]
  },
  {
   "cell_type": "code",
   "execution_count": 107,
   "id": "79603b33",
   "metadata": {},
   "outputs": [],
   "source": [
    "Foo = type(\"Foo\", (), dict(attr_foo=100))\n",
    "bar = type(\"Bar\", (Foo,), dict(attr_bar=200))"
   ]
  },
  {
   "cell_type": "code",
   "execution_count": 108,
   "id": "ec8e955a",
   "metadata": {},
   "outputs": [
    {
     "data": {
      "text/plain": [
       "(__main__.Foo, __main__.Bar)"
      ]
     },
     "execution_count": 108,
     "metadata": {},
     "output_type": "execute_result"
    }
   ],
   "source": [
    "Foo, bar"
   ]
  },
  {
   "cell_type": "code",
   "execution_count": 109,
   "id": "3a1cbc10",
   "metadata": {},
   "outputs": [],
   "source": [
    "new_house = House"
   ]
  },
  {
   "cell_type": "code",
   "execution_count": 110,
   "id": "4242f8ff",
   "metadata": {},
   "outputs": [
    {
     "name": "stdout",
     "output_type": "stream",
     "text": [
      "Meta __call__ <class '__main__.House'> () {}\n",
      "House.new <class '__main__.House'> () {}\n",
      "House.init\n"
     ]
    },
    {
     "data": {
      "text/plain": [
       "<__main__.House at 0x1053b9690>"
      ]
     },
     "execution_count": 110,
     "metadata": {},
     "output_type": "execute_result"
    }
   ],
   "source": [
    "new_house()"
   ]
  },
  {
   "cell_type": "code",
   "execution_count": 112,
   "id": "07fd58ff",
   "metadata": {},
   "outputs": [
    {
     "data": {
      "text/plain": [
       "('Bar', 'Foo')"
      ]
     },
     "execution_count": 112,
     "metadata": {},
     "output_type": "execute_result"
    }
   ],
   "source": [
    "bar.__name__, Foo.__name__"
   ]
  },
  {
   "cell_type": "code",
   "execution_count": 113,
   "id": "05af04ca",
   "metadata": {},
   "outputs": [
    {
     "data": {
      "text/plain": [
       "[__main__.Bar, __main__.Foo, object]"
      ]
     },
     "execution_count": 113,
     "metadata": {},
     "output_type": "execute_result"
    }
   ],
   "source": [
    "bar.mro()"
   ]
  },
  {
   "cell_type": "code",
   "execution_count": 114,
   "id": "926e68ad",
   "metadata": {},
   "outputs": [
    {
     "data": {
      "text/plain": [
       "(200, 100)"
      ]
     },
     "execution_count": 114,
     "metadata": {},
     "output_type": "execute_result"
    }
   ],
   "source": [
    "bar.attr_bar, bar.attr_foo"
   ]
  },
  {
   "cell_type": "code",
   "execution_count": 115,
   "id": "41bc6d11",
   "metadata": {},
   "outputs": [
    {
     "data": {
      "text/plain": [
       "__main__.House"
      ]
     },
     "execution_count": 115,
     "metadata": {},
     "output_type": "execute_result"
    }
   ],
   "source": [
    "type(dom)"
   ]
  },
  {
   "cell_type": "code",
   "execution_count": 117,
   "id": "d22cfda1",
   "metadata": {},
   "outputs": [
    {
     "name": "stdout",
     "output_type": "stream",
     "text": [
      "Meta __new__ <class '__main__.NewHouse'>\n",
      "Meta __init__ <class '__main__.NewHouse'> NewHouse (<class '__main__.House'>,) {'city': 'Moscow'}\n"
     ]
    }
   ],
   "source": [
    "NewHouse = AMeta(\"NewHouse\", (House,), {\"city\": \"Moscow\"})"
   ]
  },
  {
   "cell_type": "code",
   "execution_count": 118,
   "id": "2e43ce25",
   "metadata": {},
   "outputs": [
    {
     "data": {
      "text/plain": [
       "mappingproxy({'city': 'Moscow', '__module__': '__main__', '__doc__': None})"
      ]
     },
     "execution_count": 118,
     "metadata": {},
     "output_type": "execute_result"
    }
   ],
   "source": [
    "NewHouse.__dict__"
   ]
  },
  {
   "cell_type": "code",
   "execution_count": 121,
   "id": "5943f3ef",
   "metadata": {},
   "outputs": [
    {
     "data": {
      "text/plain": [
       "(2,\n",
       " mappingproxy({'added_attr_a': 2,\n",
       "               'added_attr_b': 99,\n",
       "               '__module__': '__main__',\n",
       "               '__new__': <staticmethod(<function House.__new__ at 0x1061f9000>)>,\n",
       "               '__init__': <function __main__.House.__init__(self)>,\n",
       "               '__dict__': <attribute '__dict__' of 'House' objects>,\n",
       "               '__weakref__': <attribute '__weakref__' of 'House' objects>,\n",
       "               '__doc__': None}))"
      ]
     },
     "execution_count": 121,
     "metadata": {},
     "output_type": "execute_result"
    }
   ],
   "source": [
    "House.added_attr_a, House.__dict__"
   ]
  },
  {
   "cell_type": "code",
   "execution_count": 120,
   "id": "f349263e",
   "metadata": {},
   "outputs": [
    {
     "data": {
      "text/plain": [
       "2"
      ]
     },
     "execution_count": 120,
     "metadata": {},
     "output_type": "execute_result"
    }
   ],
   "source": [
    "NewHouse.added_attr_a"
   ]
  },
  {
   "cell_type": "code",
   "execution_count": null,
   "id": "bd6372f6",
   "metadata": {},
   "outputs": [],
   "source": []
  },
  {
   "cell_type": "code",
   "execution_count": 122,
   "id": "53bdaf44",
   "metadata": {},
   "outputs": [
    {
     "data": {
      "text/plain": [
       "(True, True)"
      ]
     },
     "execution_count": 122,
     "metadata": {},
     "output_type": "execute_result"
    }
   ],
   "source": [
    "isinstance(object, type), isinstance(type, object)"
   ]
  },
  {
   "cell_type": "code",
   "execution_count": 123,
   "id": "487673eb",
   "metadata": {},
   "outputs": [
    {
     "data": {
      "text/plain": [
       "(False, True)"
      ]
     },
     "execution_count": 123,
     "metadata": {},
     "output_type": "execute_result"
    }
   ],
   "source": [
    "issubclass(object, type), issubclass(type, object)"
   ]
  },
  {
   "cell_type": "code",
   "execution_count": 124,
   "id": "4f196e6a",
   "metadata": {},
   "outputs": [
    {
     "data": {
      "text/plain": [
       "(True, True)"
      ]
     },
     "execution_count": 124,
     "metadata": {},
     "output_type": "execute_result"
    }
   ],
   "source": [
    "isinstance(object, object), isinstance(type, type)"
   ]
  },
  {
   "cell_type": "code",
   "execution_count": null,
   "id": "4cb606ae",
   "metadata": {},
   "outputs": [],
   "source": []
  },
  {
   "cell_type": "code",
   "execution_count": null,
   "id": "442969e8",
   "metadata": {},
   "outputs": [],
   "source": []
  },
  {
   "cell_type": "code",
   "execution_count": 126,
   "id": "8a51ad06",
   "metadata": {},
   "outputs": [
    {
     "name": "stdout",
     "output_type": "stream",
     "text": [
      "Singe.__new__ <class '__main__.Animal'>\n",
      "Animal.init 10\n",
      "Singe.__new__ <class '__main__.Animal'>\n",
      "Animal.init 20\n",
      "True 20\n"
     ]
    }
   ],
   "source": [
    "class Singleton:\n",
    "    _instance = None\n",
    "\n",
    "    def __new__(cls, *args, **kwargs):\n",
    "        print(\"Singe.__new__\", cls)\n",
    "        if cls._instance is None:\n",
    "            cls._instance = super().__new__(cls)\n",
    "\n",
    "        return cls._instance\n",
    "    \n",
    "\n",
    "class Animal(Singleton):\n",
    "    def __init__(self, val):\n",
    "        print(\"Animal.init\", val)\n",
    "        self.val = val\n",
    "\n",
    "\n",
    "a1 = Animal(10)\n",
    "a1.val = 50\n",
    "\n",
    "a2 = Animal(20)\n",
    "\n",
    "print(a1 is a2, a1.val)"
   ]
  },
  {
   "cell_type": "code",
   "execution_count": 133,
   "id": "d3c7d330",
   "metadata": {},
   "outputs": [
    {
     "name": "stdout",
     "output_type": "stream",
     "text": [
      "Meta call (10,) {} {}\n",
      "Sofa.init 10\n",
      "Meta call (20,) {} {<class '__main__.Sofa'>: <__main__.Sofa object at 0x1053b9e10>}\n",
      "\n",
      "----\n",
      "\n",
      "Meta call (30,) {} {<class '__main__.Sofa'>: <__main__.Sofa object at 0x1053b9e10>}\n",
      "Divan.init 30\n",
      "Meta call (40,) {} {<class '__main__.Sofa'>: <__main__.Sofa object at 0x1053b9e10>, <class '__main__.Divan'>: <__main__.Divan object at 0x10626a800>}\n",
      "True 50 True 60\n"
     ]
    }
   ],
   "source": [
    "class MetaSingle(type):\n",
    "    _instances = {}\n",
    "\n",
    "    def __call__(cls, *args, **kwargs):\n",
    "        print(\"Meta call\", args, kwargs, cls._instances)\n",
    "        \n",
    "        if cls not in cls._instances:\n",
    "            cls._instances[cls] = super().__call__(*args, **kwargs)\n",
    "\n",
    "        return cls._instances[cls]\n",
    "\n",
    "\n",
    "class Sofa(metaclass=MetaSingle):\n",
    "    def __init__(self, val):\n",
    "        print(\"Sofa.init\", val)\n",
    "        self.val = val\n",
    "\n",
    "\n",
    "class Divan(Sofa):\n",
    "    def __init__(self, val):\n",
    "        print(\"Divan.init\", val)\n",
    "        self.val = val\n",
    "\n",
    "\n",
    "s1 = Sofa(10)\n",
    "s1.val = 50\n",
    "s2 = Sofa(20)\n",
    "\n",
    "print(\"\\n----\\n\")\n",
    "\n",
    "d1 = Divan(30)\n",
    "d1.val = 60\n",
    "d2 = Divan(40)\n",
    "\n",
    "\n",
    "print(s1 is s2, s1.val, d1 is d2, d1.val)"
   ]
  },
  {
   "cell_type": "code",
   "execution_count": 134,
   "id": "8b52d769",
   "metadata": {},
   "outputs": [
    {
     "data": {
      "text/plain": [
       "(<__main__.Sofa at 0x1053b9e10>, <__main__.Divan at 0x10626a800>)"
      ]
     },
     "execution_count": 134,
     "metadata": {},
     "output_type": "execute_result"
    }
   ],
   "source": [
    "s1, d1"
   ]
  },
  {
   "cell_type": "code",
   "execution_count": null,
   "id": "54086c5a",
   "metadata": {},
   "outputs": [],
   "source": []
  },
  {
   "cell_type": "code",
   "execution_count": null,
   "id": "9265c45a",
   "metadata": {},
   "outputs": [],
   "source": []
  },
  {
   "cell_type": "code",
   "execution_count": 148,
   "id": "12a036ad",
   "metadata": {},
   "outputs": [],
   "source": [
    "import abc\n",
    "import collections.abc as ab"
   ]
  },
  {
   "cell_type": "code",
   "execution_count": 157,
   "id": "4bd133a4",
   "metadata": {},
   "outputs": [],
   "source": [
    "class Person(abc.ABC):\n",
    "    @abc.abstractmethod\n",
    "    def move(self):\n",
    "        pass\n",
    "\n",
    "    @abc.abstractmethod\n",
    "    def talk(self):\n",
    "        print(\"Person talf\")\n",
    "\n",
    "\n",
    "class Human(Person):\n",
    "    def talk(self):\n",
    "        print(\"human talk\")\n",
    "        super().talk()\n",
    "\n",
    "\n",
    "class Student(Human):\n",
    "    def move(self):\n",
    "        print(\"student move\")\n",
    "        \n",
    "    def __iter__(self):\n",
    "        return self\n",
    "    \n",
    "    def __next__(self):\n",
    "        return 1"
   ]
  },
  {
   "cell_type": "code",
   "execution_count": 158,
   "id": "b3dfacaa",
   "metadata": {},
   "outputs": [
    {
     "name": "stdout",
     "output_type": "stream",
     "text": [
      "student move\n",
      "human talk\n",
      "Person talf\n"
     ]
    },
    {
     "data": {
      "text/plain": [
       "(None, None)"
      ]
     },
     "execution_count": 158,
     "metadata": {},
     "output_type": "execute_result"
    }
   ],
   "source": [
    "s = Student()\n",
    "s.move(), s.talk()"
   ]
  },
  {
   "cell_type": "code",
   "execution_count": 144,
   "id": "a02a0a42",
   "metadata": {},
   "outputs": [
    {
     "ename": "TypeError",
     "evalue": "Can't instantiate abstract class Person with abstract methods move, talk",
     "output_type": "error",
     "traceback": [
      "\u001b[0;31m---------------------------------------------------------------------------\u001b[0m",
      "\u001b[0;31mTypeError\u001b[0m                                 Traceback (most recent call last)",
      "Input \u001b[0;32mIn [144]\u001b[0m, in \u001b[0;36m<cell line: 1>\u001b[0;34m()\u001b[0m\n\u001b[0;32m----> 1\u001b[0m p \u001b[38;5;241m=\u001b[39m \u001b[43mPerson\u001b[49m\u001b[43m(\u001b[49m\u001b[43m)\u001b[49m\n",
      "\u001b[0;31mTypeError\u001b[0m: Can't instantiate abstract class Person with abstract methods move, talk"
     ]
    }
   ],
   "source": [
    "p = Person()"
   ]
  },
  {
   "cell_type": "code",
   "execution_count": 145,
   "id": "a641fbd1",
   "metadata": {},
   "outputs": [
    {
     "ename": "TypeError",
     "evalue": "Can't instantiate abstract class Human with abstract method move",
     "output_type": "error",
     "traceback": [
      "\u001b[0;31m---------------------------------------------------------------------------\u001b[0m",
      "\u001b[0;31mTypeError\u001b[0m                                 Traceback (most recent call last)",
      "Input \u001b[0;32mIn [145]\u001b[0m, in \u001b[0;36m<cell line: 1>\u001b[0;34m()\u001b[0m\n\u001b[0;32m----> 1\u001b[0m h \u001b[38;5;241m=\u001b[39m \u001b[43mHuman\u001b[49m\u001b[43m(\u001b[49m\u001b[43m)\u001b[49m\n",
      "\u001b[0;31mTypeError\u001b[0m: Can't instantiate abstract class Human with abstract method move"
     ]
    }
   ],
   "source": [
    "h = Human()"
   ]
  },
  {
   "cell_type": "code",
   "execution_count": null,
   "id": "6194ba28",
   "metadata": {},
   "outputs": [],
   "source": []
  },
  {
   "cell_type": "code",
   "execution_count": null,
   "id": "15c90719",
   "metadata": {},
   "outputs": [],
   "source": []
  },
  {
   "cell_type": "code",
   "execution_count": 149,
   "id": "516c2d73",
   "metadata": {},
   "outputs": [
    {
     "data": {
      "text/plain": [
       "True"
      ]
     },
     "execution_count": 149,
     "metadata": {},
     "output_type": "execute_result"
    }
   ],
   "source": [
    "isinstance(s, ab.Hashable)"
   ]
  },
  {
   "cell_type": "code",
   "execution_count": 154,
   "id": "2a9f762b",
   "metadata": {},
   "outputs": [
    {
     "data": {
      "text/plain": [
       "(True, False)"
      ]
     },
     "execution_count": 154,
     "metadata": {},
     "output_type": "execute_result"
    }
   ],
   "source": [
    "isinstance(s, ab.Iterable), isinstance(s, ab.Iterator)"
   ]
  },
  {
   "cell_type": "code",
   "execution_count": 159,
   "id": "46695458",
   "metadata": {},
   "outputs": [
    {
     "data": {
      "text/plain": [
       "(True, True)"
      ]
     },
     "execution_count": 159,
     "metadata": {},
     "output_type": "execute_result"
    }
   ],
   "source": [
    "isinstance(s, ab.Iterable), isinstance(s, ab.Iterator)"
   ]
  },
  {
   "cell_type": "code",
   "execution_count": null,
   "id": "3e4ec4cf",
   "metadata": {},
   "outputs": [],
   "source": []
  },
  {
   "cell_type": "code",
   "execution_count": null,
   "id": "8cf53143",
   "metadata": {},
   "outputs": [],
   "source": []
  },
  {
   "cell_type": "code",
   "execution_count": 160,
   "id": "297a38da",
   "metadata": {},
   "outputs": [],
   "source": [
    "class Predictable(metaclass=abc.ABCMeta):\n",
    "    @abc.abstractmethod\n",
    "    def predict(self):\n",
    "        pass\n",
    "    \n",
    "    @classmethod\n",
    "    def __subclasshook__(cls, C):\n",
    "        if cls is not Predictable:\n",
    "            return NotImplemented\n",
    "\n",
    "        name = \"predict\"\n",
    "        for class_ in C.__mro__:\n",
    "            if name in class_.__dict__ and callable(class_.__dict__[name]):\n",
    "                return True\n",
    "\n",
    "        return NotImplemented"
   ]
  },
  {
   "cell_type": "code",
   "execution_count": 161,
   "id": "59d82b74",
   "metadata": {},
   "outputs": [],
   "source": [
    "class Model:\n",
    "    def predict(self):\n",
    "        print(\"Model.predict\")"
   ]
  },
  {
   "cell_type": "code",
   "execution_count": 162,
   "id": "5fc1ff92",
   "metadata": {},
   "outputs": [
    {
     "data": {
      "text/plain": [
       "(True, True, True)"
      ]
     },
     "execution_count": 162,
     "metadata": {},
     "output_type": "execute_result"
    }
   ],
   "source": [
    "m = Model()\n",
    "isinstance(m, Model), isinstance(m, Predictable), issubclass(Model, Predictable)"
   ]
  },
  {
   "cell_type": "code",
   "execution_count": 163,
   "id": "0395c58b",
   "metadata": {},
   "outputs": [
    {
     "data": {
      "text/plain": [
       "[__main__.Model, object]"
      ]
     },
     "execution_count": 163,
     "metadata": {},
     "output_type": "execute_result"
    }
   ],
   "source": [
    "Model.mro()"
   ]
  },
  {
   "cell_type": "code",
   "execution_count": 164,
   "id": "9cd7cdbe",
   "metadata": {},
   "outputs": [
    {
     "data": {
      "text/plain": [
       "(True, False, False)"
      ]
     },
     "execution_count": 164,
     "metadata": {},
     "output_type": "execute_result"
    }
   ],
   "source": [
    "isinstance(s, Student), isinstance(s, Predictable), issubclass(Student, Predictable)"
   ]
  },
  {
   "cell_type": "code",
   "execution_count": 176,
   "id": "3e337354",
   "metadata": {},
   "outputs": [
    {
     "data": {
      "text/plain": [
       "False"
      ]
     },
     "execution_count": 176,
     "metadata": {},
     "output_type": "execute_result"
    }
   ],
   "source": [
    "issubclass(type(s), Predictable)"
   ]
  },
  {
   "cell_type": "code",
   "execution_count": null,
   "id": "36578c70",
   "metadata": {},
   "outputs": [],
   "source": []
  },
  {
   "cell_type": "code",
   "execution_count": 181,
   "id": "94e4d2fb",
   "metadata": {},
   "outputs": [],
   "source": [
    "class NewIterable(abc.ABC):\n",
    "    @abc.abstractmethod\n",
    "    def __iter__(self):\n",
    "        pass\n",
    "\n",
    "    @classmethod\n",
    "    def __subclasshook__(cls, C):\n",
    "        if cls is not NewIterable:\n",
    "            return NotImplemented\n",
    "\n",
    "        print(\"NewIterable hook\")\n",
    "        name = \"__iter__\"\n",
    "        for class_ in C.__mro__:\n",
    "            if name in class_.__dict__ and callable(class_.__dict__[name]):\n",
    "                return True\n",
    "\n",
    "        return NotImplemented\n",
    "\n",
    "\n",
    "class BadIterable(NewIterable):\n",
    "    pass"
   ]
  },
  {
   "cell_type": "code",
   "execution_count": 182,
   "id": "f4e31df6",
   "metadata": {},
   "outputs": [
    {
     "name": "stdout",
     "output_type": "stream",
     "text": [
      "NewIterable hook\n"
     ]
    },
    {
     "data": {
      "text/plain": [
       "(True, False)"
      ]
     },
     "execution_count": 182,
     "metadata": {},
     "output_type": "execute_result"
    }
   ],
   "source": [
    "isinstance(s, NewIterable), isinstance(s, BadIterable)"
   ]
  },
  {
   "cell_type": "code",
   "execution_count": 180,
   "id": "2c2f284f",
   "metadata": {},
   "outputs": [
    {
     "name": "stdout",
     "output_type": "stream",
     "text": [
      "NewIterable hook\n",
      "NewIterable hook\n"
     ]
    },
    {
     "data": {
      "text/plain": [
       "(True, True)"
      ]
     },
     "execution_count": 180,
     "metadata": {},
     "output_type": "execute_result"
    }
   ],
   "source": [
    "isinstance([], NewIterable), isinstance([], BadIterable) "
   ]
  },
  {
   "cell_type": "code",
   "execution_count": 183,
   "id": "7388d420",
   "metadata": {},
   "outputs": [
    {
     "name": "stdout",
     "output_type": "stream",
     "text": [
      "NewIterable hook\n"
     ]
    },
    {
     "data": {
      "text/plain": [
       "(True, False)"
      ]
     },
     "execution_count": 183,
     "metadata": {},
     "output_type": "execute_result"
    }
   ],
   "source": [
    "isinstance([], NewIterable), isinstance([], BadIterable) "
   ]
  },
  {
   "cell_type": "code",
   "execution_count": null,
   "id": "ed8e1810",
   "metadata": {},
   "outputs": [],
   "source": []
  }
 ],
 "metadata": {
  "kernelspec": {
   "display_name": "Python 3 (ipykernel)",
   "language": "python",
   "name": "python3"
  },
  "language_info": {
   "codemirror_mode": {
    "name": "ipython",
    "version": 3
   },
   "file_extension": ".py",
   "mimetype": "text/x-python",
   "name": "python",
   "nbconvert_exporter": "python",
   "pygments_lexer": "ipython3",
   "version": "3.10.2"
  }
 },
 "nbformat": 4,
 "nbformat_minor": 5
}
